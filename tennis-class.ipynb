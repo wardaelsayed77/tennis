{
 "cells": [
  {
   "cell_type": "code",
   "execution_count": 1,
   "id": "9d3e21a0",
   "metadata": {
    "_cell_guid": "b1076dfc-b9ad-4769-8c92-a6c4dae69d19",
    "_uuid": "8f2839f25d086af736a60e9eeb907d3b93b6e0e5",
    "execution": {
     "iopub.execute_input": "2025-07-31T20:17:03.290435Z",
     "iopub.status.busy": "2025-07-31T20:17:03.290009Z",
     "iopub.status.idle": "2025-07-31T20:17:05.280350Z",
     "shell.execute_reply": "2025-07-31T20:17:05.279247Z"
    },
    "papermill": {
     "duration": 2.003617,
     "end_time": "2025-07-31T20:17:05.282127",
     "exception": false,
     "start_time": "2025-07-31T20:17:03.278510",
     "status": "completed"
    },
    "tags": []
   },
   "outputs": [
    {
     "data": {
      "text/html": [
       "<div>\n",
       "<style scoped>\n",
       "    .dataframe tbody tr th:only-of-type {\n",
       "        vertical-align: middle;\n",
       "    }\n",
       "\n",
       "    .dataframe tbody tr th {\n",
       "        vertical-align: top;\n",
       "    }\n",
       "\n",
       "    .dataframe thead th {\n",
       "        text-align: right;\n",
       "    }\n",
       "</style>\n",
       "<table border=\"1\" class=\"dataframe\">\n",
       "  <thead>\n",
       "    <tr style=\"text-align: right;\">\n",
       "      <th></th>\n",
       "      <th>Day</th>\n",
       "      <th>Outlook</th>\n",
       "      <th>Temperature</th>\n",
       "      <th>Humidity</th>\n",
       "      <th>Wind</th>\n",
       "      <th>Play</th>\n",
       "    </tr>\n",
       "  </thead>\n",
       "  <tbody>\n",
       "    <tr>\n",
       "      <th>0</th>\n",
       "      <td>D1</td>\n",
       "      <td>Overcast</td>\n",
       "      <td>Mild</td>\n",
       "      <td>Normal</td>\n",
       "      <td>Strong</td>\n",
       "      <td>Yes</td>\n",
       "    </tr>\n",
       "    <tr>\n",
       "      <th>1</th>\n",
       "      <td>D2</td>\n",
       "      <td>Sunny</td>\n",
       "      <td>Mild</td>\n",
       "      <td>Normal</td>\n",
       "      <td>Strong</td>\n",
       "      <td>Yes</td>\n",
       "    </tr>\n",
       "    <tr>\n",
       "      <th>2</th>\n",
       "      <td>D3</td>\n",
       "      <td>NaN</td>\n",
       "      <td>Mild</td>\n",
       "      <td>High</td>\n",
       "      <td>Strong</td>\n",
       "      <td>No</td>\n",
       "    </tr>\n",
       "    <tr>\n",
       "      <th>3</th>\n",
       "      <td>D4</td>\n",
       "      <td>Sunny</td>\n",
       "      <td>Mild</td>\n",
       "      <td>High</td>\n",
       "      <td>Weak</td>\n",
       "      <td>Yes</td>\n",
       "    </tr>\n",
       "    <tr>\n",
       "      <th>4</th>\n",
       "      <td>D5</td>\n",
       "      <td>Sunny</td>\n",
       "      <td>Cool</td>\n",
       "      <td>Normal</td>\n",
       "      <td>Strong</td>\n",
       "      <td>Yes</td>\n",
       "    </tr>\n",
       "    <tr>\n",
       "      <th>...</th>\n",
       "      <td>...</td>\n",
       "      <td>...</td>\n",
       "      <td>...</td>\n",
       "      <td>...</td>\n",
       "      <td>...</td>\n",
       "      <td>...</td>\n",
       "    </tr>\n",
       "    <tr>\n",
       "      <th>6661</th>\n",
       "      <td>D28</td>\n",
       "      <td>Sunny</td>\n",
       "      <td>Mild</td>\n",
       "      <td>High</td>\n",
       "      <td>Weak</td>\n",
       "      <td>Yes</td>\n",
       "    </tr>\n",
       "    <tr>\n",
       "      <th>6662</th>\n",
       "      <td>D29</td>\n",
       "      <td>Rainy</td>\n",
       "      <td>Cool</td>\n",
       "      <td>High</td>\n",
       "      <td>Weak</td>\n",
       "      <td>No</td>\n",
       "    </tr>\n",
       "    <tr>\n",
       "      <th>6663</th>\n",
       "      <td>D30</td>\n",
       "      <td>Overcast</td>\n",
       "      <td>Cool</td>\n",
       "      <td>High</td>\n",
       "      <td>Weak</td>\n",
       "      <td>Yes</td>\n",
       "    </tr>\n",
       "    <tr>\n",
       "      <th>6664</th>\n",
       "      <td>D31</td>\n",
       "      <td>Sunny</td>\n",
       "      <td>Hot</td>\n",
       "      <td>High</td>\n",
       "      <td>Strong</td>\n",
       "      <td>No</td>\n",
       "    </tr>\n",
       "    <tr>\n",
       "      <th>6665</th>\n",
       "      <td>D1</td>\n",
       "      <td>Sunny</td>\n",
       "      <td>Cool</td>\n",
       "      <td>Normal</td>\n",
       "      <td>Strong</td>\n",
       "      <td>Yes</td>\n",
       "    </tr>\n",
       "  </tbody>\n",
       "</table>\n",
       "<p>6666 rows × 6 columns</p>\n",
       "</div>"
      ],
      "text/plain": [
       "      Day   Outlook Temperature Humidity    Wind Play\n",
       "0      D1  Overcast        Mild   Normal  Strong  Yes\n",
       "1      D2     Sunny        Mild   Normal  Strong  Yes\n",
       "2      D3       NaN        Mild     High  Strong   No\n",
       "3      D4     Sunny        Mild     High    Weak  Yes\n",
       "4      D5     Sunny        Cool   Normal  Strong  Yes\n",
       "...   ...       ...         ...      ...     ...  ...\n",
       "6661  D28     Sunny        Mild     High    Weak  Yes\n",
       "6662  D29     Rainy        Cool     High    Weak   No\n",
       "6663  D30  Overcast        Cool     High    Weak  Yes\n",
       "6664  D31     Sunny         Hot     High  Strong   No\n",
       "6665   D1     Sunny        Cool   Normal  Strong  Yes\n",
       "\n",
       "[6666 rows x 6 columns]"
      ]
     },
     "execution_count": 1,
     "metadata": {},
     "output_type": "execute_result"
    }
   ],
   "source": [
    "import pandas as pd \n",
    "dataset_classification= pd.read_csv(\"/kaggle/input/play-tennis-dataset-weather-based-classifier/play_tennis_dataset.csv\")\n",
    "dataset_classification\n"
   ]
  },
  {
   "cell_type": "code",
   "execution_count": 2,
   "id": "539f3285",
   "metadata": {
    "execution": {
     "iopub.execute_input": "2025-07-31T20:17:05.300244Z",
     "iopub.status.busy": "2025-07-31T20:17:05.299907Z",
     "iopub.status.idle": "2025-07-31T20:17:05.310540Z",
     "shell.execute_reply": "2025-07-31T20:17:05.309532Z"
    },
    "papermill": {
     "duration": 0.0214,
     "end_time": "2025-07-31T20:17:05.312148",
     "exception": false,
     "start_time": "2025-07-31T20:17:05.290748",
     "status": "completed"
    },
    "tags": []
   },
   "outputs": [
    {
     "data": {
      "text/html": [
       "<div>\n",
       "<style scoped>\n",
       "    .dataframe tbody tr th:only-of-type {\n",
       "        vertical-align: middle;\n",
       "    }\n",
       "\n",
       "    .dataframe tbody tr th {\n",
       "        vertical-align: top;\n",
       "    }\n",
       "\n",
       "    .dataframe thead th {\n",
       "        text-align: right;\n",
       "    }\n",
       "</style>\n",
       "<table border=\"1\" class=\"dataframe\">\n",
       "  <thead>\n",
       "    <tr style=\"text-align: right;\">\n",
       "      <th></th>\n",
       "      <th>Day</th>\n",
       "      <th>Outlook</th>\n",
       "      <th>Temperature</th>\n",
       "      <th>Humidity</th>\n",
       "      <th>Wind</th>\n",
       "      <th>Play</th>\n",
       "    </tr>\n",
       "  </thead>\n",
       "  <tbody>\n",
       "    <tr>\n",
       "      <th>0</th>\n",
       "      <td>D1</td>\n",
       "      <td>Overcast</td>\n",
       "      <td>Mild</td>\n",
       "      <td>Normal</td>\n",
       "      <td>Strong</td>\n",
       "      <td>Yes</td>\n",
       "    </tr>\n",
       "    <tr>\n",
       "      <th>1</th>\n",
       "      <td>D2</td>\n",
       "      <td>Sunny</td>\n",
       "      <td>Mild</td>\n",
       "      <td>Normal</td>\n",
       "      <td>Strong</td>\n",
       "      <td>Yes</td>\n",
       "    </tr>\n",
       "    <tr>\n",
       "      <th>2</th>\n",
       "      <td>D3</td>\n",
       "      <td>NaN</td>\n",
       "      <td>Mild</td>\n",
       "      <td>High</td>\n",
       "      <td>Strong</td>\n",
       "      <td>No</td>\n",
       "    </tr>\n",
       "    <tr>\n",
       "      <th>3</th>\n",
       "      <td>D4</td>\n",
       "      <td>Sunny</td>\n",
       "      <td>Mild</td>\n",
       "      <td>High</td>\n",
       "      <td>Weak</td>\n",
       "      <td>Yes</td>\n",
       "    </tr>\n",
       "    <tr>\n",
       "      <th>4</th>\n",
       "      <td>D5</td>\n",
       "      <td>Sunny</td>\n",
       "      <td>Cool</td>\n",
       "      <td>Normal</td>\n",
       "      <td>Strong</td>\n",
       "      <td>Yes</td>\n",
       "    </tr>\n",
       "  </tbody>\n",
       "</table>\n",
       "</div>"
      ],
      "text/plain": [
       "  Day   Outlook Temperature Humidity    Wind Play\n",
       "0  D1  Overcast        Mild   Normal  Strong  Yes\n",
       "1  D2     Sunny        Mild   Normal  Strong  Yes\n",
       "2  D3       NaN        Mild     High  Strong   No\n",
       "3  D4     Sunny        Mild     High    Weak  Yes\n",
       "4  D5     Sunny        Cool   Normal  Strong  Yes"
      ]
     },
     "execution_count": 2,
     "metadata": {},
     "output_type": "execute_result"
    }
   ],
   "source": [
    "dataset_classification.head()"
   ]
  },
  {
   "cell_type": "code",
   "execution_count": 3,
   "id": "69c93c66",
   "metadata": {
    "execution": {
     "iopub.execute_input": "2025-07-31T20:17:05.331071Z",
     "iopub.status.busy": "2025-07-31T20:17:05.330737Z",
     "iopub.status.idle": "2025-07-31T20:17:05.341857Z",
     "shell.execute_reply": "2025-07-31T20:17:05.340871Z"
    },
    "papermill": {
     "duration": 0.022713,
     "end_time": "2025-07-31T20:17:05.343383",
     "exception": false,
     "start_time": "2025-07-31T20:17:05.320670",
     "status": "completed"
    },
    "tags": []
   },
   "outputs": [
    {
     "data": {
      "text/html": [
       "<div>\n",
       "<style scoped>\n",
       "    .dataframe tbody tr th:only-of-type {\n",
       "        vertical-align: middle;\n",
       "    }\n",
       "\n",
       "    .dataframe tbody tr th {\n",
       "        vertical-align: top;\n",
       "    }\n",
       "\n",
       "    .dataframe thead th {\n",
       "        text-align: right;\n",
       "    }\n",
       "</style>\n",
       "<table border=\"1\" class=\"dataframe\">\n",
       "  <thead>\n",
       "    <tr style=\"text-align: right;\">\n",
       "      <th></th>\n",
       "      <th>Day</th>\n",
       "      <th>Outlook</th>\n",
       "      <th>Temperature</th>\n",
       "      <th>Humidity</th>\n",
       "      <th>Wind</th>\n",
       "      <th>Play</th>\n",
       "    </tr>\n",
       "  </thead>\n",
       "  <tbody>\n",
       "    <tr>\n",
       "      <th>6661</th>\n",
       "      <td>D28</td>\n",
       "      <td>Sunny</td>\n",
       "      <td>Mild</td>\n",
       "      <td>High</td>\n",
       "      <td>Weak</td>\n",
       "      <td>Yes</td>\n",
       "    </tr>\n",
       "    <tr>\n",
       "      <th>6662</th>\n",
       "      <td>D29</td>\n",
       "      <td>Rainy</td>\n",
       "      <td>Cool</td>\n",
       "      <td>High</td>\n",
       "      <td>Weak</td>\n",
       "      <td>No</td>\n",
       "    </tr>\n",
       "    <tr>\n",
       "      <th>6663</th>\n",
       "      <td>D30</td>\n",
       "      <td>Overcast</td>\n",
       "      <td>Cool</td>\n",
       "      <td>High</td>\n",
       "      <td>Weak</td>\n",
       "      <td>Yes</td>\n",
       "    </tr>\n",
       "    <tr>\n",
       "      <th>6664</th>\n",
       "      <td>D31</td>\n",
       "      <td>Sunny</td>\n",
       "      <td>Hot</td>\n",
       "      <td>High</td>\n",
       "      <td>Strong</td>\n",
       "      <td>No</td>\n",
       "    </tr>\n",
       "    <tr>\n",
       "      <th>6665</th>\n",
       "      <td>D1</td>\n",
       "      <td>Sunny</td>\n",
       "      <td>Cool</td>\n",
       "      <td>Normal</td>\n",
       "      <td>Strong</td>\n",
       "      <td>Yes</td>\n",
       "    </tr>\n",
       "  </tbody>\n",
       "</table>\n",
       "</div>"
      ],
      "text/plain": [
       "      Day   Outlook Temperature Humidity    Wind Play\n",
       "6661  D28     Sunny        Mild     High    Weak  Yes\n",
       "6662  D29     Rainy        Cool     High    Weak   No\n",
       "6663  D30  Overcast        Cool     High    Weak  Yes\n",
       "6664  D31     Sunny         Hot     High  Strong   No\n",
       "6665   D1     Sunny        Cool   Normal  Strong  Yes"
      ]
     },
     "execution_count": 3,
     "metadata": {},
     "output_type": "execute_result"
    }
   ],
   "source": [
    "dataset_classification.tail()"
   ]
  },
  {
   "cell_type": "code",
   "execution_count": 4,
   "id": "8921809c",
   "metadata": {
    "execution": {
     "iopub.execute_input": "2025-07-31T20:17:05.361798Z",
     "iopub.status.busy": "2025-07-31T20:17:05.361510Z",
     "iopub.status.idle": "2025-07-31T20:17:05.386453Z",
     "shell.execute_reply": "2025-07-31T20:17:05.385332Z"
    },
    "papermill": {
     "duration": 0.035933,
     "end_time": "2025-07-31T20:17:05.387937",
     "exception": false,
     "start_time": "2025-07-31T20:17:05.352004",
     "status": "completed"
    },
    "tags": []
   },
   "outputs": [
    {
     "name": "stdout",
     "output_type": "stream",
     "text": [
      "<class 'pandas.core.frame.DataFrame'>\n",
      "RangeIndex: 6666 entries, 0 to 6665\n",
      "Data columns (total 6 columns):\n",
      " #   Column       Non-Null Count  Dtype \n",
      "---  ------       --------------  ----- \n",
      " 0   Day          6666 non-null   object\n",
      " 1   Outlook      6267 non-null   object\n",
      " 2   Temperature  6333 non-null   object\n",
      " 3   Humidity     6433 non-null   object\n",
      " 4   Wind         6300 non-null   object\n",
      " 5   Play         6666 non-null   object\n",
      "dtypes: object(6)\n",
      "memory usage: 312.6+ KB\n"
     ]
    }
   ],
   "source": [
    "dataset_classification.info()"
   ]
  },
  {
   "cell_type": "code",
   "execution_count": 5,
   "id": "e4b7aeb7",
   "metadata": {
    "execution": {
     "iopub.execute_input": "2025-07-31T20:17:05.406322Z",
     "iopub.status.busy": "2025-07-31T20:17:05.406003Z",
     "iopub.status.idle": "2025-07-31T20:17:05.415417Z",
     "shell.execute_reply": "2025-07-31T20:17:05.414611Z"
    },
    "papermill": {
     "duration": 0.020137,
     "end_time": "2025-07-31T20:17:05.416866",
     "exception": false,
     "start_time": "2025-07-31T20:17:05.396729",
     "status": "completed"
    },
    "tags": []
   },
   "outputs": [
    {
     "data": {
      "text/plain": [
       "Day              0\n",
       "Outlook        399\n",
       "Temperature    333\n",
       "Humidity       233\n",
       "Wind           366\n",
       "Play             0\n",
       "dtype: int64"
      ]
     },
     "execution_count": 5,
     "metadata": {},
     "output_type": "execute_result"
    }
   ],
   "source": [
    "dataset_classification.isnull().sum()"
   ]
  },
  {
   "cell_type": "code",
   "execution_count": 6,
   "id": "4267d115",
   "metadata": {
    "execution": {
     "iopub.execute_input": "2025-07-31T20:17:05.436327Z",
     "iopub.status.busy": "2025-07-31T20:17:05.435958Z",
     "iopub.status.idle": "2025-07-31T20:17:05.459723Z",
     "shell.execute_reply": "2025-07-31T20:17:05.458831Z"
    },
    "papermill": {
     "duration": 0.035246,
     "end_time": "2025-07-31T20:17:05.461294",
     "exception": false,
     "start_time": "2025-07-31T20:17:05.426048",
     "status": "completed"
    },
    "tags": []
   },
   "outputs": [
    {
     "data": {
      "text/html": [
       "<div>\n",
       "<style scoped>\n",
       "    .dataframe tbody tr th:only-of-type {\n",
       "        vertical-align: middle;\n",
       "    }\n",
       "\n",
       "    .dataframe tbody tr th {\n",
       "        vertical-align: top;\n",
       "    }\n",
       "\n",
       "    .dataframe thead th {\n",
       "        text-align: right;\n",
       "    }\n",
       "</style>\n",
       "<table border=\"1\" class=\"dataframe\">\n",
       "  <thead>\n",
       "    <tr style=\"text-align: right;\">\n",
       "      <th></th>\n",
       "      <th>Day</th>\n",
       "      <th>Outlook</th>\n",
       "      <th>Temperature</th>\n",
       "      <th>Humidity</th>\n",
       "      <th>Wind</th>\n",
       "      <th>Play</th>\n",
       "    </tr>\n",
       "  </thead>\n",
       "  <tbody>\n",
       "    <tr>\n",
       "      <th>count</th>\n",
       "      <td>6666</td>\n",
       "      <td>6267</td>\n",
       "      <td>6333</td>\n",
       "      <td>6433</td>\n",
       "      <td>6300</td>\n",
       "      <td>6666</td>\n",
       "    </tr>\n",
       "    <tr>\n",
       "      <th>unique</th>\n",
       "      <td>31</td>\n",
       "      <td>3</td>\n",
       "      <td>3</td>\n",
       "      <td>2</td>\n",
       "      <td>2</td>\n",
       "      <td>2</td>\n",
       "    </tr>\n",
       "    <tr>\n",
       "      <th>top</th>\n",
       "      <td>D1</td>\n",
       "      <td>Overcast</td>\n",
       "      <td>Cool</td>\n",
       "      <td>Normal</td>\n",
       "      <td>Weak</td>\n",
       "      <td>Yes</td>\n",
       "    </tr>\n",
       "    <tr>\n",
       "      <th>freq</th>\n",
       "      <td>220</td>\n",
       "      <td>2192</td>\n",
       "      <td>2538</td>\n",
       "      <td>3872</td>\n",
       "      <td>4473</td>\n",
       "      <td>4080</td>\n",
       "    </tr>\n",
       "  </tbody>\n",
       "</table>\n",
       "</div>"
      ],
      "text/plain": [
       "         Day   Outlook Temperature Humidity  Wind  Play\n",
       "count   6666      6267        6333     6433  6300  6666\n",
       "unique    31         3           3        2     2     2\n",
       "top       D1  Overcast        Cool   Normal  Weak   Yes\n",
       "freq     220      2192        2538     3872  4473  4080"
      ]
     },
     "execution_count": 6,
     "metadata": {},
     "output_type": "execute_result"
    }
   ],
   "source": [
    "dataset_classification.describe()"
   ]
  },
  {
   "cell_type": "code",
   "execution_count": 7,
   "id": "19fed06e",
   "metadata": {
    "execution": {
     "iopub.execute_input": "2025-07-31T20:17:05.480033Z",
     "iopub.status.busy": "2025-07-31T20:17:05.479734Z",
     "iopub.status.idle": "2025-07-31T20:17:05.487507Z",
     "shell.execute_reply": "2025-07-31T20:17:05.486667Z"
    },
    "papermill": {
     "duration": 0.018887,
     "end_time": "2025-07-31T20:17:05.488990",
     "exception": false,
     "start_time": "2025-07-31T20:17:05.470103",
     "status": "completed"
    },
    "tags": []
   },
   "outputs": [],
   "source": [
    "dataset_classification[\"Outlook\"]=dataset_classification[\"Outlook\"].fillna(dataset_classification[\"Outlook\"].mode()[0])\n"
   ]
  },
  {
   "cell_type": "code",
   "execution_count": 8,
   "id": "dc24552d",
   "metadata": {
    "execution": {
     "iopub.execute_input": "2025-07-31T20:17:05.509643Z",
     "iopub.status.busy": "2025-07-31T20:17:05.509216Z",
     "iopub.status.idle": "2025-07-31T20:17:05.519106Z",
     "shell.execute_reply": "2025-07-31T20:17:05.518070Z"
    },
    "papermill": {
     "duration": 0.022428,
     "end_time": "2025-07-31T20:17:05.521392",
     "exception": false,
     "start_time": "2025-07-31T20:17:05.498964",
     "status": "completed"
    },
    "tags": []
   },
   "outputs": [
    {
     "data": {
      "text/plain": [
       "Day              0\n",
       "Outlook          0\n",
       "Temperature    333\n",
       "Humidity       233\n",
       "Wind           366\n",
       "Play             0\n",
       "dtype: int64"
      ]
     },
     "execution_count": 8,
     "metadata": {},
     "output_type": "execute_result"
    }
   ],
   "source": [
    "dataset_classification.isnull().sum()"
   ]
  },
  {
   "cell_type": "code",
   "execution_count": 9,
   "id": "33a860e3",
   "metadata": {
    "execution": {
     "iopub.execute_input": "2025-07-31T20:17:05.542076Z",
     "iopub.status.busy": "2025-07-31T20:17:05.541755Z",
     "iopub.status.idle": "2025-07-31T20:17:05.549594Z",
     "shell.execute_reply": "2025-07-31T20:17:05.548098Z"
    },
    "papermill": {
     "duration": 0.020598,
     "end_time": "2025-07-31T20:17:05.551206",
     "exception": false,
     "start_time": "2025-07-31T20:17:05.530608",
     "status": "completed"
    },
    "tags": []
   },
   "outputs": [],
   "source": [
    "dataset_classification[\"Wind\"]=dataset_classification[\"Wind\"].fillna(dataset_classification[\"Wind\"].mode()[0])\n"
   ]
  },
  {
   "cell_type": "code",
   "execution_count": 10,
   "id": "a349a3b3",
   "metadata": {
    "execution": {
     "iopub.execute_input": "2025-07-31T20:17:05.571368Z",
     "iopub.status.busy": "2025-07-31T20:17:05.571012Z",
     "iopub.status.idle": "2025-07-31T20:17:05.578196Z",
     "shell.execute_reply": "2025-07-31T20:17:05.577013Z"
    },
    "papermill": {
     "duration": 0.019706,
     "end_time": "2025-07-31T20:17:05.579950",
     "exception": false,
     "start_time": "2025-07-31T20:17:05.560244",
     "status": "completed"
    },
    "tags": []
   },
   "outputs": [],
   "source": [
    "dataset_classification[\"Temperature\"]=dataset_classification[\"Temperature\"].fillna(dataset_classification[\"Temperature\"].mode()[0])"
   ]
  },
  {
   "cell_type": "code",
   "execution_count": 11,
   "id": "0553663d",
   "metadata": {
    "execution": {
     "iopub.execute_input": "2025-07-31T20:17:05.599938Z",
     "iopub.status.busy": "2025-07-31T20:17:05.599618Z",
     "iopub.status.idle": "2025-07-31T20:17:05.606277Z",
     "shell.execute_reply": "2025-07-31T20:17:05.605341Z"
    },
    "papermill": {
     "duration": 0.018349,
     "end_time": "2025-07-31T20:17:05.608089",
     "exception": false,
     "start_time": "2025-07-31T20:17:05.589740",
     "status": "completed"
    },
    "tags": []
   },
   "outputs": [],
   "source": [
    "dataset_classification[\"Humidity\"]=dataset_classification[\"Humidity\"].fillna(dataset_classification[\"Humidity\"].mode()[0])\n"
   ]
  },
  {
   "cell_type": "code",
   "execution_count": 12,
   "id": "bd4d58cd",
   "metadata": {
    "execution": {
     "iopub.execute_input": "2025-07-31T20:17:05.628885Z",
     "iopub.status.busy": "2025-07-31T20:17:05.628561Z",
     "iopub.status.idle": "2025-07-31T20:17:05.638487Z",
     "shell.execute_reply": "2025-07-31T20:17:05.637668Z"
    },
    "papermill": {
     "duration": 0.022472,
     "end_time": "2025-07-31T20:17:05.640074",
     "exception": false,
     "start_time": "2025-07-31T20:17:05.617602",
     "status": "completed"
    },
    "tags": []
   },
   "outputs": [
    {
     "data": {
      "text/plain": [
       "Day            0\n",
       "Outlook        0\n",
       "Temperature    0\n",
       "Humidity       0\n",
       "Wind           0\n",
       "Play           0\n",
       "dtype: int64"
      ]
     },
     "execution_count": 12,
     "metadata": {},
     "output_type": "execute_result"
    }
   ],
   "source": [
    "dataset_classification.isnull().sum()"
   ]
  },
  {
   "cell_type": "code",
   "execution_count": 13,
   "id": "86fb4e57",
   "metadata": {
    "execution": {
     "iopub.execute_input": "2025-07-31T20:17:05.659493Z",
     "iopub.status.busy": "2025-07-31T20:17:05.659145Z",
     "iopub.status.idle": "2025-07-31T20:17:05.663424Z",
     "shell.execute_reply": "2025-07-31T20:17:05.662319Z"
    },
    "papermill": {
     "duration": 0.015824,
     "end_time": "2025-07-31T20:17:05.664951",
     "exception": false,
     "start_time": "2025-07-31T20:17:05.649127",
     "status": "completed"
    },
    "tags": []
   },
   "outputs": [],
   "source": [
    "#ataset_classification.duplicated().sum()\n"
   ]
  },
  {
   "cell_type": "code",
   "execution_count": 14,
   "id": "c05fe742",
   "metadata": {
    "execution": {
     "iopub.execute_input": "2025-07-31T20:17:05.685433Z",
     "iopub.status.busy": "2025-07-31T20:17:05.685081Z",
     "iopub.status.idle": "2025-07-31T20:17:05.690746Z",
     "shell.execute_reply": "2025-07-31T20:17:05.689790Z"
    },
    "papermill": {
     "duration": 0.017811,
     "end_time": "2025-07-31T20:17:05.692282",
     "exception": false,
     "start_time": "2025-07-31T20:17:05.674471",
     "status": "completed"
    },
    "tags": []
   },
   "outputs": [
    {
     "data": {
      "text/plain": [
       "6"
      ]
     },
     "execution_count": 14,
     "metadata": {},
     "output_type": "execute_result"
    }
   ],
   "source": [
    "dataset_classification.shape[1]\n"
   ]
  },
  {
   "cell_type": "code",
   "execution_count": 15,
   "id": "e9976a39",
   "metadata": {
    "execution": {
     "iopub.execute_input": "2025-07-31T20:17:05.712880Z",
     "iopub.status.busy": "2025-07-31T20:17:05.712549Z",
     "iopub.status.idle": "2025-07-31T20:17:05.718296Z",
     "shell.execute_reply": "2025-07-31T20:17:05.717304Z"
    },
    "papermill": {
     "duration": 0.018433,
     "end_time": "2025-07-31T20:17:05.720331",
     "exception": false,
     "start_time": "2025-07-31T20:17:05.701898",
     "status": "completed"
    },
    "tags": []
   },
   "outputs": [
    {
     "data": {
      "text/plain": [
       "6666"
      ]
     },
     "execution_count": 15,
     "metadata": {},
     "output_type": "execute_result"
    }
   ],
   "source": [
    "dataset_classification.shape[0]\n"
   ]
  },
  {
   "cell_type": "code",
   "execution_count": 16,
   "id": "6697deed",
   "metadata": {
    "execution": {
     "iopub.execute_input": "2025-07-31T20:17:05.813840Z",
     "iopub.status.busy": "2025-07-31T20:17:05.813476Z",
     "iopub.status.idle": "2025-07-31T20:17:05.818134Z",
     "shell.execute_reply": "2025-07-31T20:17:05.816761Z"
    },
    "papermill": {
     "duration": 0.01727,
     "end_time": "2025-07-31T20:17:05.820028",
     "exception": false,
     "start_time": "2025-07-31T20:17:05.802758",
     "status": "completed"
    },
    "tags": []
   },
   "outputs": [],
   "source": [
    "#dataset_classification.drop_duplicates(inplace=True)\n"
   ]
  },
  {
   "cell_type": "code",
   "execution_count": 17,
   "id": "2fc10d8f",
   "metadata": {
    "execution": {
     "iopub.execute_input": "2025-07-31T20:17:05.848318Z",
     "iopub.status.busy": "2025-07-31T20:17:05.847225Z",
     "iopub.status.idle": "2025-07-31T20:17:05.854503Z",
     "shell.execute_reply": "2025-07-31T20:17:05.853409Z"
    },
    "papermill": {
     "duration": 0.02171,
     "end_time": "2025-07-31T20:17:05.856495",
     "exception": false,
     "start_time": "2025-07-31T20:17:05.834785",
     "status": "completed"
    },
    "tags": []
   },
   "outputs": [
    {
     "data": {
      "text/plain": [
       "6666"
      ]
     },
     "execution_count": 17,
     "metadata": {},
     "output_type": "execute_result"
    }
   ],
   "source": [
    "dataset_classification.shape[0]\n"
   ]
  },
  {
   "cell_type": "code",
   "execution_count": 18,
   "id": "c6ec9fae",
   "metadata": {
    "execution": {
     "iopub.execute_input": "2025-07-31T20:17:05.884538Z",
     "iopub.status.busy": "2025-07-31T20:17:05.884109Z",
     "iopub.status.idle": "2025-07-31T20:17:05.894870Z",
     "shell.execute_reply": "2025-07-31T20:17:05.893488Z"
    },
    "papermill": {
     "duration": 0.023858,
     "end_time": "2025-07-31T20:17:05.896692",
     "exception": false,
     "start_time": "2025-07-31T20:17:05.872834",
     "status": "completed"
    },
    "tags": []
   },
   "outputs": [
    {
     "data": {
      "text/plain": [
       "Day            object\n",
       "Outlook        object\n",
       "Temperature    object\n",
       "Humidity       object\n",
       "Wind           object\n",
       "Play           object\n",
       "dtype: object"
      ]
     },
     "execution_count": 18,
     "metadata": {},
     "output_type": "execute_result"
    }
   ],
   "source": [
    "dataset_classification.dtypes\n"
   ]
  },
  {
   "cell_type": "code",
   "execution_count": 19,
   "id": "92b68efe",
   "metadata": {
    "execution": {
     "iopub.execute_input": "2025-07-31T20:17:05.917138Z",
     "iopub.status.busy": "2025-07-31T20:17:05.916836Z",
     "iopub.status.idle": "2025-07-31T20:17:05.922219Z",
     "shell.execute_reply": "2025-07-31T20:17:05.921341Z"
    },
    "papermill": {
     "duration": 0.017716,
     "end_time": "2025-07-31T20:17:05.924089",
     "exception": false,
     "start_time": "2025-07-31T20:17:05.906373",
     "status": "completed"
    },
    "tags": []
   },
   "outputs": [
    {
     "name": "stdout",
     "output_type": "stream",
     "text": [
      "['Normal' 'High']\n"
     ]
    }
   ],
   "source": [
    "print(dataset_classification['Humidity'].unique())\n"
   ]
  },
  {
   "cell_type": "code",
   "execution_count": 20,
   "id": "024f069e",
   "metadata": {
    "execution": {
     "iopub.execute_input": "2025-07-31T20:17:05.945053Z",
     "iopub.status.busy": "2025-07-31T20:17:05.944740Z",
     "iopub.status.idle": "2025-07-31T20:17:05.957645Z",
     "shell.execute_reply": "2025-07-31T20:17:05.956519Z"
    },
    "papermill": {
     "duration": 0.025881,
     "end_time": "2025-07-31T20:17:05.959707",
     "exception": false,
     "start_time": "2025-07-31T20:17:05.933826",
     "status": "completed"
    },
    "tags": []
   },
   "outputs": [
    {
     "data": {
      "text/html": [
       "<div>\n",
       "<style scoped>\n",
       "    .dataframe tbody tr th:only-of-type {\n",
       "        vertical-align: middle;\n",
       "    }\n",
       "\n",
       "    .dataframe tbody tr th {\n",
       "        vertical-align: top;\n",
       "    }\n",
       "\n",
       "    .dataframe thead th {\n",
       "        text-align: right;\n",
       "    }\n",
       "</style>\n",
       "<table border=\"1\" class=\"dataframe\">\n",
       "  <thead>\n",
       "    <tr style=\"text-align: right;\">\n",
       "      <th></th>\n",
       "      <th>Day</th>\n",
       "      <th>Outlook</th>\n",
       "      <th>Temperature</th>\n",
       "      <th>Humidity</th>\n",
       "      <th>Wind</th>\n",
       "      <th>Play</th>\n",
       "    </tr>\n",
       "  </thead>\n",
       "  <tbody>\n",
       "    <tr>\n",
       "      <th>0</th>\n",
       "      <td>D1</td>\n",
       "      <td>Overcast</td>\n",
       "      <td>Mild</td>\n",
       "      <td>Normal</td>\n",
       "      <td>Strong</td>\n",
       "      <td>Yes</td>\n",
       "    </tr>\n",
       "    <tr>\n",
       "      <th>1</th>\n",
       "      <td>D2</td>\n",
       "      <td>Sunny</td>\n",
       "      <td>Mild</td>\n",
       "      <td>Normal</td>\n",
       "      <td>Strong</td>\n",
       "      <td>Yes</td>\n",
       "    </tr>\n",
       "    <tr>\n",
       "      <th>2</th>\n",
       "      <td>D3</td>\n",
       "      <td>Overcast</td>\n",
       "      <td>Mild</td>\n",
       "      <td>High</td>\n",
       "      <td>Strong</td>\n",
       "      <td>No</td>\n",
       "    </tr>\n",
       "    <tr>\n",
       "      <th>3</th>\n",
       "      <td>D4</td>\n",
       "      <td>Sunny</td>\n",
       "      <td>Mild</td>\n",
       "      <td>High</td>\n",
       "      <td>Weak</td>\n",
       "      <td>Yes</td>\n",
       "    </tr>\n",
       "    <tr>\n",
       "      <th>4</th>\n",
       "      <td>D5</td>\n",
       "      <td>Sunny</td>\n",
       "      <td>Cool</td>\n",
       "      <td>Normal</td>\n",
       "      <td>Strong</td>\n",
       "      <td>Yes</td>\n",
       "    </tr>\n",
       "    <tr>\n",
       "      <th>...</th>\n",
       "      <td>...</td>\n",
       "      <td>...</td>\n",
       "      <td>...</td>\n",
       "      <td>...</td>\n",
       "      <td>...</td>\n",
       "      <td>...</td>\n",
       "    </tr>\n",
       "    <tr>\n",
       "      <th>6661</th>\n",
       "      <td>D28</td>\n",
       "      <td>Sunny</td>\n",
       "      <td>Mild</td>\n",
       "      <td>High</td>\n",
       "      <td>Weak</td>\n",
       "      <td>Yes</td>\n",
       "    </tr>\n",
       "    <tr>\n",
       "      <th>6662</th>\n",
       "      <td>D29</td>\n",
       "      <td>Rainy</td>\n",
       "      <td>Cool</td>\n",
       "      <td>High</td>\n",
       "      <td>Weak</td>\n",
       "      <td>No</td>\n",
       "    </tr>\n",
       "    <tr>\n",
       "      <th>6663</th>\n",
       "      <td>D30</td>\n",
       "      <td>Overcast</td>\n",
       "      <td>Cool</td>\n",
       "      <td>High</td>\n",
       "      <td>Weak</td>\n",
       "      <td>Yes</td>\n",
       "    </tr>\n",
       "    <tr>\n",
       "      <th>6664</th>\n",
       "      <td>D31</td>\n",
       "      <td>Sunny</td>\n",
       "      <td>Hot</td>\n",
       "      <td>High</td>\n",
       "      <td>Strong</td>\n",
       "      <td>No</td>\n",
       "    </tr>\n",
       "    <tr>\n",
       "      <th>6665</th>\n",
       "      <td>D1</td>\n",
       "      <td>Sunny</td>\n",
       "      <td>Cool</td>\n",
       "      <td>Normal</td>\n",
       "      <td>Strong</td>\n",
       "      <td>Yes</td>\n",
       "    </tr>\n",
       "  </tbody>\n",
       "</table>\n",
       "<p>6666 rows × 6 columns</p>\n",
       "</div>"
      ],
      "text/plain": [
       "      Day   Outlook Temperature Humidity    Wind Play\n",
       "0      D1  Overcast        Mild   Normal  Strong  Yes\n",
       "1      D2     Sunny        Mild   Normal  Strong  Yes\n",
       "2      D3  Overcast        Mild     High  Strong   No\n",
       "3      D4     Sunny        Mild     High    Weak  Yes\n",
       "4      D5     Sunny        Cool   Normal  Strong  Yes\n",
       "...   ...       ...         ...      ...     ...  ...\n",
       "6661  D28     Sunny        Mild     High    Weak  Yes\n",
       "6662  D29     Rainy        Cool     High    Weak   No\n",
       "6663  D30  Overcast        Cool     High    Weak  Yes\n",
       "6664  D31     Sunny         Hot     High  Strong   No\n",
       "6665   D1     Sunny        Cool   Normal  Strong  Yes\n",
       "\n",
       "[6666 rows x 6 columns]"
      ]
     },
     "execution_count": 20,
     "metadata": {},
     "output_type": "execute_result"
    }
   ],
   "source": [
    "dataset_classification"
   ]
  },
  {
   "cell_type": "code",
   "execution_count": 21,
   "id": "9895527f",
   "metadata": {
    "execution": {
     "iopub.execute_input": "2025-07-31T20:17:05.992286Z",
     "iopub.status.busy": "2025-07-31T20:17:05.991842Z",
     "iopub.status.idle": "2025-07-31T20:17:05.996686Z",
     "shell.execute_reply": "2025-07-31T20:17:05.995211Z"
    },
    "papermill": {
     "duration": 0.023796,
     "end_time": "2025-07-31T20:17:05.998704",
     "exception": false,
     "start_time": "2025-07-31T20:17:05.974908",
     "status": "completed"
    },
    "tags": []
   },
   "outputs": [],
   "source": [
    "#dataset_classification[\"Wind\"]=dataset_classification[\"Wind\"].str.lower()"
   ]
  },
  {
   "cell_type": "code",
   "execution_count": 22,
   "id": "ce35e026",
   "metadata": {
    "execution": {
     "iopub.execute_input": "2025-07-31T20:17:06.026921Z",
     "iopub.status.busy": "2025-07-31T20:17:06.026161Z",
     "iopub.status.idle": "2025-07-31T20:17:06.042864Z",
     "shell.execute_reply": "2025-07-31T20:17:06.041541Z"
    },
    "papermill": {
     "duration": 0.030372,
     "end_time": "2025-07-31T20:17:06.044903",
     "exception": false,
     "start_time": "2025-07-31T20:17:06.014531",
     "status": "completed"
    },
    "tags": []
   },
   "outputs": [
    {
     "data": {
      "text/html": [
       "<div>\n",
       "<style scoped>\n",
       "    .dataframe tbody tr th:only-of-type {\n",
       "        vertical-align: middle;\n",
       "    }\n",
       "\n",
       "    .dataframe tbody tr th {\n",
       "        vertical-align: top;\n",
       "    }\n",
       "\n",
       "    .dataframe thead th {\n",
       "        text-align: right;\n",
       "    }\n",
       "</style>\n",
       "<table border=\"1\" class=\"dataframe\">\n",
       "  <thead>\n",
       "    <tr style=\"text-align: right;\">\n",
       "      <th></th>\n",
       "      <th>Day</th>\n",
       "      <th>Outlook</th>\n",
       "      <th>Temperature</th>\n",
       "      <th>Humidity</th>\n",
       "      <th>Wind</th>\n",
       "      <th>Play</th>\n",
       "    </tr>\n",
       "  </thead>\n",
       "  <tbody>\n",
       "    <tr>\n",
       "      <th>0</th>\n",
       "      <td>D1</td>\n",
       "      <td>Overcast</td>\n",
       "      <td>Mild</td>\n",
       "      <td>Normal</td>\n",
       "      <td>Strong</td>\n",
       "      <td>Yes</td>\n",
       "    </tr>\n",
       "    <tr>\n",
       "      <th>1</th>\n",
       "      <td>D2</td>\n",
       "      <td>Sunny</td>\n",
       "      <td>Mild</td>\n",
       "      <td>Normal</td>\n",
       "      <td>Strong</td>\n",
       "      <td>Yes</td>\n",
       "    </tr>\n",
       "    <tr>\n",
       "      <th>2</th>\n",
       "      <td>D3</td>\n",
       "      <td>Overcast</td>\n",
       "      <td>Mild</td>\n",
       "      <td>High</td>\n",
       "      <td>Strong</td>\n",
       "      <td>No</td>\n",
       "    </tr>\n",
       "    <tr>\n",
       "      <th>3</th>\n",
       "      <td>D4</td>\n",
       "      <td>Sunny</td>\n",
       "      <td>Mild</td>\n",
       "      <td>High</td>\n",
       "      <td>Weak</td>\n",
       "      <td>Yes</td>\n",
       "    </tr>\n",
       "    <tr>\n",
       "      <th>4</th>\n",
       "      <td>D5</td>\n",
       "      <td>Sunny</td>\n",
       "      <td>Cool</td>\n",
       "      <td>Normal</td>\n",
       "      <td>Strong</td>\n",
       "      <td>Yes</td>\n",
       "    </tr>\n",
       "    <tr>\n",
       "      <th>...</th>\n",
       "      <td>...</td>\n",
       "      <td>...</td>\n",
       "      <td>...</td>\n",
       "      <td>...</td>\n",
       "      <td>...</td>\n",
       "      <td>...</td>\n",
       "    </tr>\n",
       "    <tr>\n",
       "      <th>6661</th>\n",
       "      <td>D28</td>\n",
       "      <td>Sunny</td>\n",
       "      <td>Mild</td>\n",
       "      <td>High</td>\n",
       "      <td>Weak</td>\n",
       "      <td>Yes</td>\n",
       "    </tr>\n",
       "    <tr>\n",
       "      <th>6662</th>\n",
       "      <td>D29</td>\n",
       "      <td>Rainy</td>\n",
       "      <td>Cool</td>\n",
       "      <td>High</td>\n",
       "      <td>Weak</td>\n",
       "      <td>No</td>\n",
       "    </tr>\n",
       "    <tr>\n",
       "      <th>6663</th>\n",
       "      <td>D30</td>\n",
       "      <td>Overcast</td>\n",
       "      <td>Cool</td>\n",
       "      <td>High</td>\n",
       "      <td>Weak</td>\n",
       "      <td>Yes</td>\n",
       "    </tr>\n",
       "    <tr>\n",
       "      <th>6664</th>\n",
       "      <td>D31</td>\n",
       "      <td>Sunny</td>\n",
       "      <td>Hot</td>\n",
       "      <td>High</td>\n",
       "      <td>Strong</td>\n",
       "      <td>No</td>\n",
       "    </tr>\n",
       "    <tr>\n",
       "      <th>6665</th>\n",
       "      <td>D1</td>\n",
       "      <td>Sunny</td>\n",
       "      <td>Cool</td>\n",
       "      <td>Normal</td>\n",
       "      <td>Strong</td>\n",
       "      <td>Yes</td>\n",
       "    </tr>\n",
       "  </tbody>\n",
       "</table>\n",
       "<p>6666 rows × 6 columns</p>\n",
       "</div>"
      ],
      "text/plain": [
       "      Day   Outlook Temperature Humidity    Wind Play\n",
       "0      D1  Overcast        Mild   Normal  Strong  Yes\n",
       "1      D2     Sunny        Mild   Normal  Strong  Yes\n",
       "2      D3  Overcast        Mild     High  Strong   No\n",
       "3      D4     Sunny        Mild     High    Weak  Yes\n",
       "4      D5     Sunny        Cool   Normal  Strong  Yes\n",
       "...   ...       ...         ...      ...     ...  ...\n",
       "6661  D28     Sunny        Mild     High    Weak  Yes\n",
       "6662  D29     Rainy        Cool     High    Weak   No\n",
       "6663  D30  Overcast        Cool     High    Weak  Yes\n",
       "6664  D31     Sunny         Hot     High  Strong   No\n",
       "6665   D1     Sunny        Cool   Normal  Strong  Yes\n",
       "\n",
       "[6666 rows x 6 columns]"
      ]
     },
     "execution_count": 22,
     "metadata": {},
     "output_type": "execute_result"
    }
   ],
   "source": [
    "dataset_classification"
   ]
  },
  {
   "cell_type": "code",
   "execution_count": 23,
   "id": "805e27cc",
   "metadata": {
    "execution": {
     "iopub.execute_input": "2025-07-31T20:17:06.070146Z",
     "iopub.status.busy": "2025-07-31T20:17:06.069836Z",
     "iopub.status.idle": "2025-07-31T20:17:07.692565Z",
     "shell.execute_reply": "2025-07-31T20:17:07.691629Z"
    },
    "papermill": {
     "duration": 1.636665,
     "end_time": "2025-07-31T20:17:07.694171",
     "exception": false,
     "start_time": "2025-07-31T20:17:06.057506",
     "status": "completed"
    },
    "tags": []
   },
   "outputs": [],
   "source": [
    "from sklearn.preprocessing import LabelEncoder\n",
    "\n",
    "lebel = LabelEncoder()\n",
    "\n",
    "dataset_classification['Humidity'] = lebel.fit_transform(dataset_classification['Humidity'])\n"
   ]
  },
  {
   "cell_type": "code",
   "execution_count": 24,
   "id": "fc1dc2cb",
   "metadata": {
    "execution": {
     "iopub.execute_input": "2025-07-31T20:17:07.716857Z",
     "iopub.status.busy": "2025-07-31T20:17:07.716398Z",
     "iopub.status.idle": "2025-07-31T20:17:07.728458Z",
     "shell.execute_reply": "2025-07-31T20:17:07.727500Z"
    },
    "papermill": {
     "duration": 0.025578,
     "end_time": "2025-07-31T20:17:07.730050",
     "exception": false,
     "start_time": "2025-07-31T20:17:07.704472",
     "status": "completed"
    },
    "tags": []
   },
   "outputs": [
    {
     "data": {
      "text/html": [
       "<div>\n",
       "<style scoped>\n",
       "    .dataframe tbody tr th:only-of-type {\n",
       "        vertical-align: middle;\n",
       "    }\n",
       "\n",
       "    .dataframe tbody tr th {\n",
       "        vertical-align: top;\n",
       "    }\n",
       "\n",
       "    .dataframe thead th {\n",
       "        text-align: right;\n",
       "    }\n",
       "</style>\n",
       "<table border=\"1\" class=\"dataframe\">\n",
       "  <thead>\n",
       "    <tr style=\"text-align: right;\">\n",
       "      <th></th>\n",
       "      <th>Day</th>\n",
       "      <th>Outlook</th>\n",
       "      <th>Temperature</th>\n",
       "      <th>Humidity</th>\n",
       "      <th>Wind</th>\n",
       "      <th>Play</th>\n",
       "    </tr>\n",
       "  </thead>\n",
       "  <tbody>\n",
       "    <tr>\n",
       "      <th>0</th>\n",
       "      <td>D1</td>\n",
       "      <td>Overcast</td>\n",
       "      <td>Mild</td>\n",
       "      <td>1</td>\n",
       "      <td>Strong</td>\n",
       "      <td>Yes</td>\n",
       "    </tr>\n",
       "    <tr>\n",
       "      <th>1</th>\n",
       "      <td>D2</td>\n",
       "      <td>Sunny</td>\n",
       "      <td>Mild</td>\n",
       "      <td>1</td>\n",
       "      <td>Strong</td>\n",
       "      <td>Yes</td>\n",
       "    </tr>\n",
       "    <tr>\n",
       "      <th>2</th>\n",
       "      <td>D3</td>\n",
       "      <td>Overcast</td>\n",
       "      <td>Mild</td>\n",
       "      <td>0</td>\n",
       "      <td>Strong</td>\n",
       "      <td>No</td>\n",
       "    </tr>\n",
       "    <tr>\n",
       "      <th>3</th>\n",
       "      <td>D4</td>\n",
       "      <td>Sunny</td>\n",
       "      <td>Mild</td>\n",
       "      <td>0</td>\n",
       "      <td>Weak</td>\n",
       "      <td>Yes</td>\n",
       "    </tr>\n",
       "    <tr>\n",
       "      <th>4</th>\n",
       "      <td>D5</td>\n",
       "      <td>Sunny</td>\n",
       "      <td>Cool</td>\n",
       "      <td>1</td>\n",
       "      <td>Strong</td>\n",
       "      <td>Yes</td>\n",
       "    </tr>\n",
       "    <tr>\n",
       "      <th>...</th>\n",
       "      <td>...</td>\n",
       "      <td>...</td>\n",
       "      <td>...</td>\n",
       "      <td>...</td>\n",
       "      <td>...</td>\n",
       "      <td>...</td>\n",
       "    </tr>\n",
       "    <tr>\n",
       "      <th>6661</th>\n",
       "      <td>D28</td>\n",
       "      <td>Sunny</td>\n",
       "      <td>Mild</td>\n",
       "      <td>0</td>\n",
       "      <td>Weak</td>\n",
       "      <td>Yes</td>\n",
       "    </tr>\n",
       "    <tr>\n",
       "      <th>6662</th>\n",
       "      <td>D29</td>\n",
       "      <td>Rainy</td>\n",
       "      <td>Cool</td>\n",
       "      <td>0</td>\n",
       "      <td>Weak</td>\n",
       "      <td>No</td>\n",
       "    </tr>\n",
       "    <tr>\n",
       "      <th>6663</th>\n",
       "      <td>D30</td>\n",
       "      <td>Overcast</td>\n",
       "      <td>Cool</td>\n",
       "      <td>0</td>\n",
       "      <td>Weak</td>\n",
       "      <td>Yes</td>\n",
       "    </tr>\n",
       "    <tr>\n",
       "      <th>6664</th>\n",
       "      <td>D31</td>\n",
       "      <td>Sunny</td>\n",
       "      <td>Hot</td>\n",
       "      <td>0</td>\n",
       "      <td>Strong</td>\n",
       "      <td>No</td>\n",
       "    </tr>\n",
       "    <tr>\n",
       "      <th>6665</th>\n",
       "      <td>D1</td>\n",
       "      <td>Sunny</td>\n",
       "      <td>Cool</td>\n",
       "      <td>1</td>\n",
       "      <td>Strong</td>\n",
       "      <td>Yes</td>\n",
       "    </tr>\n",
       "  </tbody>\n",
       "</table>\n",
       "<p>6666 rows × 6 columns</p>\n",
       "</div>"
      ],
      "text/plain": [
       "      Day   Outlook Temperature  Humidity    Wind Play\n",
       "0      D1  Overcast        Mild         1  Strong  Yes\n",
       "1      D2     Sunny        Mild         1  Strong  Yes\n",
       "2      D3  Overcast        Mild         0  Strong   No\n",
       "3      D4     Sunny        Mild         0    Weak  Yes\n",
       "4      D5     Sunny        Cool         1  Strong  Yes\n",
       "...   ...       ...         ...       ...     ...  ...\n",
       "6661  D28     Sunny        Mild         0    Weak  Yes\n",
       "6662  D29     Rainy        Cool         0    Weak   No\n",
       "6663  D30  Overcast        Cool         0    Weak  Yes\n",
       "6664  D31     Sunny         Hot         0  Strong   No\n",
       "6665   D1     Sunny        Cool         1  Strong  Yes\n",
       "\n",
       "[6666 rows x 6 columns]"
      ]
     },
     "execution_count": 24,
     "metadata": {},
     "output_type": "execute_result"
    }
   ],
   "source": [
    "dataset_classification"
   ]
  },
  {
   "cell_type": "code",
   "execution_count": 25,
   "id": "2ed9a68a",
   "metadata": {
    "execution": {
     "iopub.execute_input": "2025-07-31T20:17:07.751605Z",
     "iopub.status.busy": "2025-07-31T20:17:07.751285Z",
     "iopub.status.idle": "2025-07-31T20:17:07.764052Z",
     "shell.execute_reply": "2025-07-31T20:17:07.763135Z"
    },
    "papermill": {
     "duration": 0.025347,
     "end_time": "2025-07-31T20:17:07.765638",
     "exception": false,
     "start_time": "2025-07-31T20:17:07.740291",
     "status": "completed"
    },
    "tags": []
   },
   "outputs": [],
   "source": [
    "from sklearn.preprocessing import LabelEncoder\n",
    "\n",
    "label_tra = ['Day','Outlook', 'Wind', 'Play','Temperature']\n",
    "\n",
    "lebel = LabelEncoder()\n",
    "for tra in label_tra:\n",
    "    dataset_classification[tra] = lebel.fit_transform(dataset_classification[tra])\n"
   ]
  },
  {
   "cell_type": "code",
   "execution_count": 26,
   "id": "f2ade9e5",
   "metadata": {
    "execution": {
     "iopub.execute_input": "2025-07-31T20:17:07.787731Z",
     "iopub.status.busy": "2025-07-31T20:17:07.787430Z",
     "iopub.status.idle": "2025-07-31T20:17:07.798647Z",
     "shell.execute_reply": "2025-07-31T20:17:07.797768Z"
    },
    "papermill": {
     "duration": 0.024188,
     "end_time": "2025-07-31T20:17:07.800124",
     "exception": false,
     "start_time": "2025-07-31T20:17:07.775936",
     "status": "completed"
    },
    "tags": []
   },
   "outputs": [
    {
     "data": {
      "text/html": [
       "<div>\n",
       "<style scoped>\n",
       "    .dataframe tbody tr th:only-of-type {\n",
       "        vertical-align: middle;\n",
       "    }\n",
       "\n",
       "    .dataframe tbody tr th {\n",
       "        vertical-align: top;\n",
       "    }\n",
       "\n",
       "    .dataframe thead th {\n",
       "        text-align: right;\n",
       "    }\n",
       "</style>\n",
       "<table border=\"1\" class=\"dataframe\">\n",
       "  <thead>\n",
       "    <tr style=\"text-align: right;\">\n",
       "      <th></th>\n",
       "      <th>Day</th>\n",
       "      <th>Outlook</th>\n",
       "      <th>Temperature</th>\n",
       "      <th>Humidity</th>\n",
       "      <th>Wind</th>\n",
       "      <th>Play</th>\n",
       "    </tr>\n",
       "  </thead>\n",
       "  <tbody>\n",
       "    <tr>\n",
       "      <th>0</th>\n",
       "      <td>0</td>\n",
       "      <td>0</td>\n",
       "      <td>2</td>\n",
       "      <td>1</td>\n",
       "      <td>0</td>\n",
       "      <td>1</td>\n",
       "    </tr>\n",
       "    <tr>\n",
       "      <th>1</th>\n",
       "      <td>11</td>\n",
       "      <td>2</td>\n",
       "      <td>2</td>\n",
       "      <td>1</td>\n",
       "      <td>0</td>\n",
       "      <td>1</td>\n",
       "    </tr>\n",
       "    <tr>\n",
       "      <th>2</th>\n",
       "      <td>22</td>\n",
       "      <td>0</td>\n",
       "      <td>2</td>\n",
       "      <td>0</td>\n",
       "      <td>0</td>\n",
       "      <td>0</td>\n",
       "    </tr>\n",
       "    <tr>\n",
       "      <th>3</th>\n",
       "      <td>25</td>\n",
       "      <td>2</td>\n",
       "      <td>2</td>\n",
       "      <td>0</td>\n",
       "      <td>1</td>\n",
       "      <td>1</td>\n",
       "    </tr>\n",
       "    <tr>\n",
       "      <th>4</th>\n",
       "      <td>26</td>\n",
       "      <td>2</td>\n",
       "      <td>0</td>\n",
       "      <td>1</td>\n",
       "      <td>0</td>\n",
       "      <td>1</td>\n",
       "    </tr>\n",
       "    <tr>\n",
       "      <th>...</th>\n",
       "      <td>...</td>\n",
       "      <td>...</td>\n",
       "      <td>...</td>\n",
       "      <td>...</td>\n",
       "      <td>...</td>\n",
       "      <td>...</td>\n",
       "    </tr>\n",
       "    <tr>\n",
       "      <th>6661</th>\n",
       "      <td>20</td>\n",
       "      <td>2</td>\n",
       "      <td>2</td>\n",
       "      <td>0</td>\n",
       "      <td>1</td>\n",
       "      <td>1</td>\n",
       "    </tr>\n",
       "    <tr>\n",
       "      <th>6662</th>\n",
       "      <td>21</td>\n",
       "      <td>1</td>\n",
       "      <td>0</td>\n",
       "      <td>0</td>\n",
       "      <td>1</td>\n",
       "      <td>0</td>\n",
       "    </tr>\n",
       "    <tr>\n",
       "      <th>6663</th>\n",
       "      <td>23</td>\n",
       "      <td>0</td>\n",
       "      <td>0</td>\n",
       "      <td>0</td>\n",
       "      <td>1</td>\n",
       "      <td>1</td>\n",
       "    </tr>\n",
       "    <tr>\n",
       "      <th>6664</th>\n",
       "      <td>24</td>\n",
       "      <td>2</td>\n",
       "      <td>1</td>\n",
       "      <td>0</td>\n",
       "      <td>0</td>\n",
       "      <td>0</td>\n",
       "    </tr>\n",
       "    <tr>\n",
       "      <th>6665</th>\n",
       "      <td>0</td>\n",
       "      <td>2</td>\n",
       "      <td>0</td>\n",
       "      <td>1</td>\n",
       "      <td>0</td>\n",
       "      <td>1</td>\n",
       "    </tr>\n",
       "  </tbody>\n",
       "</table>\n",
       "<p>6666 rows × 6 columns</p>\n",
       "</div>"
      ],
      "text/plain": [
       "      Day  Outlook  Temperature  Humidity  Wind  Play\n",
       "0       0        0            2         1     0     1\n",
       "1      11        2            2         1     0     1\n",
       "2      22        0            2         0     0     0\n",
       "3      25        2            2         0     1     1\n",
       "4      26        2            0         1     0     1\n",
       "...   ...      ...          ...       ...   ...   ...\n",
       "6661   20        2            2         0     1     1\n",
       "6662   21        1            0         0     1     0\n",
       "6663   23        0            0         0     1     1\n",
       "6664   24        2            1         0     0     0\n",
       "6665    0        2            0         1     0     1\n",
       "\n",
       "[6666 rows x 6 columns]"
      ]
     },
     "execution_count": 26,
     "metadata": {},
     "output_type": "execute_result"
    }
   ],
   "source": [
    "dataset_classification"
   ]
  },
  {
   "cell_type": "code",
   "execution_count": 27,
   "id": "9e9f7d95",
   "metadata": {
    "execution": {
     "iopub.execute_input": "2025-07-31T20:17:07.822217Z",
     "iopub.status.busy": "2025-07-31T20:17:07.821917Z",
     "iopub.status.idle": "2025-07-31T20:17:08.147145Z",
     "shell.execute_reply": "2025-07-31T20:17:08.146177Z"
    },
    "papermill": {
     "duration": 0.338055,
     "end_time": "2025-07-31T20:17:08.148797",
     "exception": false,
     "start_time": "2025-07-31T20:17:07.810742",
     "status": "completed"
    },
    "tags": []
   },
   "outputs": [
    {
     "data": {
      "text/html": [
       "<div>\n",
       "<style scoped>\n",
       "    .dataframe tbody tr th:only-of-type {\n",
       "        vertical-align: middle;\n",
       "    }\n",
       "\n",
       "    .dataframe tbody tr th {\n",
       "        vertical-align: top;\n",
       "    }\n",
       "\n",
       "    .dataframe thead th {\n",
       "        text-align: right;\n",
       "    }\n",
       "</style>\n",
       "<table border=\"1\" class=\"dataframe\">\n",
       "  <thead>\n",
       "    <tr style=\"text-align: right;\">\n",
       "      <th></th>\n",
       "      <th>Day</th>\n",
       "      <th>Outlook</th>\n",
       "      <th>Temperature</th>\n",
       "      <th>Humidity</th>\n",
       "      <th>Wind</th>\n",
       "      <th>Play</th>\n",
       "    </tr>\n",
       "  </thead>\n",
       "  <tbody>\n",
       "    <tr>\n",
       "      <th>Day</th>\n",
       "      <td>1.000000</td>\n",
       "      <td>-0.008775</td>\n",
       "      <td>0.003056</td>\n",
       "      <td>-0.017196</td>\n",
       "      <td>-0.002227</td>\n",
       "      <td>-0.020537</td>\n",
       "    </tr>\n",
       "    <tr>\n",
       "      <th>Outlook</th>\n",
       "      <td>-0.008775</td>\n",
       "      <td>1.000000</td>\n",
       "      <td>0.009533</td>\n",
       "      <td>0.003464</td>\n",
       "      <td>-0.005713</td>\n",
       "      <td>-0.150529</td>\n",
       "    </tr>\n",
       "    <tr>\n",
       "      <th>Temperature</th>\n",
       "      <td>0.003056</td>\n",
       "      <td>0.009533</td>\n",
       "      <td>1.000000</td>\n",
       "      <td>0.014033</td>\n",
       "      <td>0.001666</td>\n",
       "      <td>-0.197457</td>\n",
       "    </tr>\n",
       "    <tr>\n",
       "      <th>Humidity</th>\n",
       "      <td>-0.017196</td>\n",
       "      <td>0.003464</td>\n",
       "      <td>0.014033</td>\n",
       "      <td>1.000000</td>\n",
       "      <td>-0.003397</td>\n",
       "      <td>0.248420</td>\n",
       "    </tr>\n",
       "    <tr>\n",
       "      <th>Wind</th>\n",
       "      <td>-0.002227</td>\n",
       "      <td>-0.005713</td>\n",
       "      <td>0.001666</td>\n",
       "      <td>-0.003397</td>\n",
       "      <td>1.000000</td>\n",
       "      <td>0.230689</td>\n",
       "    </tr>\n",
       "    <tr>\n",
       "      <th>Play</th>\n",
       "      <td>-0.020537</td>\n",
       "      <td>-0.150529</td>\n",
       "      <td>-0.197457</td>\n",
       "      <td>0.248420</td>\n",
       "      <td>0.230689</td>\n",
       "      <td>1.000000</td>\n",
       "    </tr>\n",
       "  </tbody>\n",
       "</table>\n",
       "</div>"
      ],
      "text/plain": [
       "                  Day   Outlook  Temperature  Humidity      Wind      Play\n",
       "Day          1.000000 -0.008775     0.003056 -0.017196 -0.002227 -0.020537\n",
       "Outlook     -0.008775  1.000000     0.009533  0.003464 -0.005713 -0.150529\n",
       "Temperature  0.003056  0.009533     1.000000  0.014033  0.001666 -0.197457\n",
       "Humidity    -0.017196  0.003464     0.014033  1.000000 -0.003397  0.248420\n",
       "Wind        -0.002227 -0.005713     0.001666 -0.003397  1.000000  0.230689\n",
       "Play        -0.020537 -0.150529    -0.197457  0.248420  0.230689  1.000000"
      ]
     },
     "execution_count": 27,
     "metadata": {},
     "output_type": "execute_result"
    },
    {
     "data": {
      "image/png": "[encoded data removed]",
      "text/plain": [
       "<Figure size 640x480 with 1 Axes>"
      ]
     },
     "metadata": {},
     "output_type": "display_data"
    }
   ],
   "source": [
    "import matplotlib.pyplot as plt\n",
    "plt.imshow(dataset_classification.corr().values)\n",
    "dataset_classification.corr()\n"
   ]
  },
  {
   "cell_type": "code",
   "execution_count": 28,
   "id": "c8ff816a",
   "metadata": {
    "execution": {
     "iopub.execute_input": "2025-07-31T20:17:08.171241Z",
     "iopub.status.busy": "2025-07-31T20:17:08.170904Z",
     "iopub.status.idle": "2025-07-31T20:17:08.501742Z",
     "shell.execute_reply": "2025-07-31T20:17:08.500794Z"
    },
    "papermill": {
     "duration": 0.34389,
     "end_time": "2025-07-31T20:17:08.503337",
     "exception": false,
     "start_time": "2025-07-31T20:17:08.159447",
     "status": "completed"
    },
    "tags": []
   },
   "outputs": [
    {
     "data": {
      "image/png": "[encoded data removed]",
      "text/plain": [
       "<Figure size 800x600 with 2 Axes>"
      ]
     },
     "metadata": {},
     "output_type": "display_data"
    }
   ],
   "source": [
    "import matplotlib.pyplot as plt\n",
    "import numpy as np\n",
    "\n",
    "corr = dataset_classification.corr()\n",
    "\n",
    "plt.figure(figsize=(8, 6))\n",
    "plt.imshow(corr.values, cmap='viridis', interpolation='nearest')\n",
    "plt.colorbar()\n",
    "plt.xticks(np.arange(len(corr.columns)), corr.columns, rotation=90)\n",
    "plt.yticks(np.arange(len(corr.columns)), corr.columns)\n",
    "\n",
    "for i in range(len(corr.columns)):\n",
    "    for j in range(len(corr.columns)):\n",
    "        value = round(corr.values[i, j], 2)\n",
    "        plt.text(j, i, str(value), ha='center', va='center', color='white' if abs(value) > 0.5 else 'black')\n",
    "\n",
    "plt.title(\"Correlation Values\")\n",
    "plt.tight_layout()\n",
    "plt.show()\n"
   ]
  },
  {
   "cell_type": "code",
   "execution_count": 29,
   "id": "08b5169e",
   "metadata": {
    "execution": {
     "iopub.execute_input": "2025-07-31T20:17:08.528998Z",
     "iopub.status.busy": "2025-07-31T20:17:08.528673Z",
     "iopub.status.idle": "2025-07-31T20:17:08.541288Z",
     "shell.execute_reply": "2025-07-31T20:17:08.540437Z"
    },
    "papermill": {
     "duration": 0.027415,
     "end_time": "2025-07-31T20:17:08.542769",
     "exception": false,
     "start_time": "2025-07-31T20:17:08.515354",
     "status": "completed"
    },
    "tags": []
   },
   "outputs": [
    {
     "data": {
      "text/html": [
       "<div>\n",
       "<style scoped>\n",
       "    .dataframe tbody tr th:only-of-type {\n",
       "        vertical-align: middle;\n",
       "    }\n",
       "\n",
       "    .dataframe tbody tr th {\n",
       "        vertical-align: top;\n",
       "    }\n",
       "\n",
       "    .dataframe thead th {\n",
       "        text-align: right;\n",
       "    }\n",
       "</style>\n",
       "<table border=\"1\" class=\"dataframe\">\n",
       "  <thead>\n",
       "    <tr style=\"text-align: right;\">\n",
       "      <th></th>\n",
       "      <th>Outlook</th>\n",
       "      <th>Humidity</th>\n",
       "      <th>Wind</th>\n",
       "      <th>Temperature</th>\n",
       "    </tr>\n",
       "  </thead>\n",
       "  <tbody>\n",
       "    <tr>\n",
       "      <th>0</th>\n",
       "      <td>0</td>\n",
       "      <td>1</td>\n",
       "      <td>0</td>\n",
       "      <td>2</td>\n",
       "    </tr>\n",
       "    <tr>\n",
       "      <th>1</th>\n",
       "      <td>2</td>\n",
       "      <td>1</td>\n",
       "      <td>0</td>\n",
       "      <td>2</td>\n",
       "    </tr>\n",
       "    <tr>\n",
       "      <th>2</th>\n",
       "      <td>0</td>\n",
       "      <td>0</td>\n",
       "      <td>0</td>\n",
       "      <td>2</td>\n",
       "    </tr>\n",
       "    <tr>\n",
       "      <th>3</th>\n",
       "      <td>2</td>\n",
       "      <td>0</td>\n",
       "      <td>1</td>\n",
       "      <td>2</td>\n",
       "    </tr>\n",
       "    <tr>\n",
       "      <th>4</th>\n",
       "      <td>2</td>\n",
       "      <td>1</td>\n",
       "      <td>0</td>\n",
       "      <td>0</td>\n",
       "    </tr>\n",
       "    <tr>\n",
       "      <th>...</th>\n",
       "      <td>...</td>\n",
       "      <td>...</td>\n",
       "      <td>...</td>\n",
       "      <td>...</td>\n",
       "    </tr>\n",
       "    <tr>\n",
       "      <th>6661</th>\n",
       "      <td>2</td>\n",
       "      <td>0</td>\n",
       "      <td>1</td>\n",
       "      <td>2</td>\n",
       "    </tr>\n",
       "    <tr>\n",
       "      <th>6662</th>\n",
       "      <td>1</td>\n",
       "      <td>0</td>\n",
       "      <td>1</td>\n",
       "      <td>0</td>\n",
       "    </tr>\n",
       "    <tr>\n",
       "      <th>6663</th>\n",
       "      <td>0</td>\n",
       "      <td>0</td>\n",
       "      <td>1</td>\n",
       "      <td>0</td>\n",
       "    </tr>\n",
       "    <tr>\n",
       "      <th>6664</th>\n",
       "      <td>2</td>\n",
       "      <td>0</td>\n",
       "      <td>0</td>\n",
       "      <td>1</td>\n",
       "    </tr>\n",
       "    <tr>\n",
       "      <th>6665</th>\n",
       "      <td>2</td>\n",
       "      <td>1</td>\n",
       "      <td>0</td>\n",
       "      <td>0</td>\n",
       "    </tr>\n",
       "  </tbody>\n",
       "</table>\n",
       "<p>6666 rows × 4 columns</p>\n",
       "</div>"
      ],
      "text/plain": [
       "      Outlook  Humidity  Wind  Temperature\n",
       "0           0         1     0            2\n",
       "1           2         1     0            2\n",
       "2           0         0     0            2\n",
       "3           2         0     1            2\n",
       "4           2         1     0            0\n",
       "...       ...       ...   ...          ...\n",
       "6661        2         0     1            2\n",
       "6662        1         0     1            0\n",
       "6663        0         0     1            0\n",
       "6664        2         0     0            1\n",
       "6665        2         1     0            0\n",
       "\n",
       "[6666 rows x 4 columns]"
      ]
     },
     "execution_count": 29,
     "metadata": {},
     "output_type": "execute_result"
    }
   ],
   "source": [
    "x = dataset_classification[['Outlook', 'Humidity', 'Wind','Temperature']]\n",
    "y = dataset_classification['Play']\n",
    "x"
   ]
  },
  {
   "cell_type": "code",
   "execution_count": 30,
   "id": "d1979029",
   "metadata": {
    "execution": {
     "iopub.execute_input": "2025-07-31T20:17:08.567418Z",
     "iopub.status.busy": "2025-07-31T20:17:08.567071Z",
     "iopub.status.idle": "2025-07-31T20:17:08.692629Z",
     "shell.execute_reply": "2025-07-31T20:17:08.691619Z"
    },
    "papermill": {
     "duration": 0.140071,
     "end_time": "2025-07-31T20:17:08.694366",
     "exception": false,
     "start_time": "2025-07-31T20:17:08.554295",
     "status": "completed"
    },
    "tags": []
   },
   "outputs": [],
   "source": [
    "from sklearn.model_selection import train_test_split\n",
    "x_train, x_test, y_train, y_test = train_test_split(x,y,test_size=0.2)"
   ]
  },
  {
   "cell_type": "code",
   "execution_count": 31,
   "id": "d2a770b2",
   "metadata": {
    "execution": {
     "iopub.execute_input": "2025-07-31T20:17:08.720567Z",
     "iopub.status.busy": "2025-07-31T20:17:08.719181Z",
     "iopub.status.idle": "2025-07-31T20:17:08.983597Z",
     "shell.execute_reply": "2025-07-31T20:17:08.982743Z"
    },
    "papermill": {
     "duration": 0.279083,
     "end_time": "2025-07-31T20:17:08.985475",
     "exception": false,
     "start_time": "2025-07-31T20:17:08.706392",
     "status": "completed"
    },
    "tags": []
   },
   "outputs": [
    {
     "data": {
      "text/html": [
       "<style>#sk-container-id-1 {color: black;background-color: white;}#sk-container-id-1 pre{padding: 0;}#sk-container-id-1 div.sk-toggleable {background-color: white;}#sk-container-id-1 label.sk-toggleable__label {cursor: pointer;display: block;width: 100%;margin-bottom: 0;padding: 0.3em;box-sizing: border-box;text-align: center;}#sk-container-id-1 label.sk-toggleable__label-arrow:before {content: \"▸\";float: left;margin-right: 0.25em;color: #696969;}#sk-container-id-1 label.sk-toggleable__label-arrow:hover:before {color: black;}#sk-container-id-1 div.sk-estimator:hover label.sk-toggleable__label-arrow:before {color: black;}#sk-container-id-1 div.sk-toggleable__content {max-height: 0;max-width: 0;overflow: hidden;text-align: left;background-color: #f0f8ff;}#sk-container-id-1 div.sk-toggleable__content pre {margin: 0.2em;color: black;border-radius: 0.25em;background-color: #f0f8ff;}#sk-container-id-1 input.sk-toggleable__control:checked~div.sk-toggleable__content {max-height: 200px;max-width: 100%;overflow: auto;}#sk-container-id-1 input.sk-toggleable__control:checked~label.sk-toggleable__label-arrow:before {content: \"▾\";}#sk-container-id-1 div.sk-estimator input.sk-toggleable__control:checked~label.sk-toggleable__label {background-color: #d4ebff;}#sk-container-id-1 div.sk-label input.sk-toggleable__control:checked~label.sk-toggleable__label {background-color: #d4ebff;}#sk-container-id-1 input.sk-hidden--visually {border: 0;clip: rect(1px 1px 1px 1px);clip: rect(1px, 1px, 1px, 1px);height: 1px;margin: -1px;overflow: hidden;padding: 0;position: absolute;width: 1px;}#sk-container-id-1 div.sk-estimator {font-family: monospace;background-color: #f0f8ff;border: 1px dotted black;border-radius: 0.25em;box-sizing: border-box;margin-bottom: 0.5em;}#sk-container-id-1 div.sk-estimator:hover {background-color: #d4ebff;}#sk-container-id-1 div.sk-parallel-item::after {content: \"\";width: 100%;border-bottom: 1px solid gray;flex-grow: 1;}#sk-container-id-1 div.sk-label:hover label.sk-toggleable__label {background-color: #d4ebff;}#sk-container-id-1 div.sk-serial::before {content: \"\";position: absolute;border-left: 1px solid gray;box-sizing: border-box;top: 0;bottom: 0;left: 50%;z-index: 0;}#sk-container-id-1 div.sk-serial {display: flex;flex-direction: column;align-items: center;background-color: white;padding-right: 0.2em;padding-left: 0.2em;position: relative;}#sk-container-id-1 div.sk-item {position: relative;z-index: 1;}#sk-container-id-1 div.sk-parallel {display: flex;align-items: stretch;justify-content: center;background-color: white;position: relative;}#sk-container-id-1 div.sk-item::before, #sk-container-id-1 div.sk-parallel-item::before {content: \"\";position: absolute;border-left: 1px solid gray;box-sizing: border-box;top: 0;bottom: 0;left: 50%;z-index: -1;}#sk-container-id-1 div.sk-parallel-item {display: flex;flex-direction: column;z-index: 1;position: relative;background-color: white;}#sk-container-id-1 div.sk-parallel-item:first-child::after {align-self: flex-end;width: 50%;}#sk-container-id-1 div.sk-parallel-item:last-child::after {align-self: flex-start;width: 50%;}#sk-container-id-1 div.sk-parallel-item:only-child::after {width: 0;}#sk-container-id-1 div.sk-dashed-wrapped {border: 1px dashed gray;margin: 0 0.4em 0.5em 0.4em;box-sizing: border-box;padding-bottom: 0.4em;background-color: white;}#sk-container-id-1 div.sk-label label {font-family: monospace;font-weight: bold;display: inline-block;line-height: 1.2em;}#sk-container-id-1 div.sk-label-container {text-align: center;}#sk-container-id-1 div.sk-container {/* jupyter's `normalize.less` sets `[hidden] { display: none; }` but bootstrap.min.css set `[hidden] { display: none !important; }` so we also need the `!important` here to be able to override the default hidden behavior on the sphinx rendered scikit-learn.org. See: https://github.com/scikit-learn/scikit-learn/issues/21755 */display: inline-block !important;position: relative;}#sk-container-id-1 div.sk-text-repr-fallback {display: none;}</style><div id=\"sk-container-id-1\" class=\"sk-top-container\"><div class=\"sk-text-repr-fallback\"><pre>LogisticRegression()</pre><b>In a Jupyter environment, please rerun this cell to show the HTML representation or trust the notebook. <br />On GitHub, the HTML representation is unable to render, please try loading this page with nbviewer.org.</b></div><div class=\"sk-container\" hidden><div class=\"sk-item\"><div class=\"sk-estimator sk-toggleable\"><input class=\"sk-toggleable__control sk-hidden--visually\" id=\"sk-estimator-id-1\" type=\"checkbox\" checked><label for=\"sk-estimator-id-1\" class=\"sk-toggleable__label sk-toggleable__label-arrow\">LogisticRegression</label><div class=\"sk-toggleable__content\"><pre>LogisticRegression()</pre></div></div></div></div></div>"
      ],
      "text/plain": [
       "LogisticRegression()"
      ]
     },
     "execution_count": 31,
     "metadata": {},
     "output_type": "execute_result"
    }
   ],
   "source": [
    "from sklearn.linear_model import LogisticRegression\n",
    "model = LogisticRegression()\n",
    "model.fit(x_train, y_train)"
   ]
  },
  {
   "cell_type": "code",
   "execution_count": 32,
   "id": "fff49614",
   "metadata": {
    "execution": {
     "iopub.execute_input": "2025-07-31T20:17:09.027215Z",
     "iopub.status.busy": "2025-07-31T20:17:09.026875Z",
     "iopub.status.idle": "2025-07-31T20:17:09.037423Z",
     "shell.execute_reply": "2025-07-31T20:17:09.036676Z"
    },
    "papermill": {
     "duration": 0.033976,
     "end_time": "2025-07-31T20:17:09.039277",
     "exception": false,
     "start_time": "2025-07-31T20:17:09.005301",
     "status": "completed"
    },
    "tags": []
   },
   "outputs": [
    {
     "data": {
      "text/plain": [
       "array([0, 1, 0, ..., 0, 1, 1])"
      ]
     },
     "execution_count": 32,
     "metadata": {},
     "output_type": "execute_result"
    }
   ],
   "source": [
    "y_out = model.predict(x_test)\n",
    "y_out"
   ]
  },
  {
   "cell_type": "code",
   "execution_count": 33,
   "id": "e14dd3a0",
   "metadata": {
    "execution": {
     "iopub.execute_input": "2025-07-31T20:17:09.081951Z",
     "iopub.status.busy": "2025-07-31T20:17:09.081614Z",
     "iopub.status.idle": "2025-07-31T20:17:09.090407Z",
     "shell.execute_reply": "2025-07-31T20:17:09.089484Z"
    },
    "papermill": {
     "duration": 0.032546,
     "end_time": "2025-07-31T20:17:09.092423",
     "exception": false,
     "start_time": "2025-07-31T20:17:09.059877",
     "status": "completed"
    },
    "tags": []
   },
   "outputs": [
    {
     "data": {
      "text/plain": [
       "0.7016491754122939"
      ]
     },
     "execution_count": 33,
     "metadata": {},
     "output_type": "execute_result"
    }
   ],
   "source": [
    "from sklearn.metrics import accuracy_score\n",
    "accuracy = accuracy_score(y_test, y_out)\n",
    "accuracy"
   ]
  },
  {
   "cell_type": "code",
   "execution_count": 34,
   "id": "09d21927",
   "metadata": {
    "execution": {
     "iopub.execute_input": "2025-07-31T20:17:09.118156Z",
     "iopub.status.busy": "2025-07-31T20:17:09.117683Z",
     "iopub.status.idle": "2025-07-31T20:17:09.126647Z",
     "shell.execute_reply": "2025-07-31T20:17:09.125667Z"
    },
    "papermill": {
     "duration": 0.023381,
     "end_time": "2025-07-31T20:17:09.128174",
     "exception": false,
     "start_time": "2025-07-31T20:17:09.104793",
     "status": "completed"
    },
    "tags": []
   },
   "outputs": [
    {
     "data": {
      "text/plain": [
       "Day            0\n",
       "Outlook        0\n",
       "Temperature    0\n",
       "Humidity       0\n",
       "Wind           0\n",
       "Play           0\n",
       "dtype: int64"
      ]
     },
     "execution_count": 34,
     "metadata": {},
     "output_type": "execute_result"
    }
   ],
   "source": [
    "\n",
    "dataset_classification.isnull().sum()"
   ]
  },
  {
   "cell_type": "code",
   "execution_count": 35,
   "id": "19318f5c",
   "metadata": {
    "execution": {
     "iopub.execute_input": "2025-07-31T20:17:09.154562Z",
     "iopub.status.busy": "2025-07-31T20:17:09.153998Z",
     "iopub.status.idle": "2025-07-31T20:17:09.163446Z",
     "shell.execute_reply": "2025-07-31T20:17:09.162471Z"
    },
    "papermill": {
     "duration": 0.024418,
     "end_time": "2025-07-31T20:17:09.165033",
     "exception": false,
     "start_time": "2025-07-31T20:17:09.140615",
     "status": "completed"
    },
    "tags": []
   },
   "outputs": [
    {
     "data": {
      "text/plain": [
       "5086"
      ]
     },
     "execution_count": 35,
     "metadata": {},
     "output_type": "execute_result"
    }
   ],
   "source": [
    "dataset_classification.duplicated().sum()"
   ]
  },
  {
   "cell_type": "code",
   "execution_count": 36,
   "id": "a3caf719",
   "metadata": {
    "execution": {
     "iopub.execute_input": "2025-07-31T20:17:09.190436Z",
     "iopub.status.busy": "2025-07-31T20:17:09.190101Z",
     "iopub.status.idle": "2025-07-31T20:17:09.350508Z",
     "shell.execute_reply": "2025-07-31T20:17:09.349522Z"
    },
    "papermill": {
     "duration": 0.175712,
     "end_time": "2025-07-31T20:17:09.352778",
     "exception": false,
     "start_time": "2025-07-31T20:17:09.177066",
     "status": "completed"
    },
    "tags": []
   },
   "outputs": [
    {
     "data": {
      "text/html": [
       "<style>#sk-container-id-2 {color: black;background-color: white;}#sk-container-id-2 pre{padding: 0;}#sk-container-id-2 div.sk-toggleable {background-color: white;}#sk-container-id-2 label.sk-toggleable__label {cursor: pointer;display: block;width: 100%;margin-bottom: 0;padding: 0.3em;box-sizing: border-box;text-align: center;}#sk-container-id-2 label.sk-toggleable__label-arrow:before {content: \"▸\";float: left;margin-right: 0.25em;color: #696969;}#sk-container-id-2 label.sk-toggleable__label-arrow:hover:before {color: black;}#sk-container-id-2 div.sk-estimator:hover label.sk-toggleable__label-arrow:before {color: black;}#sk-container-id-2 div.sk-toggleable__content {max-height: 0;max-width: 0;overflow: hidden;text-align: left;background-color: #f0f8ff;}#sk-container-id-2 div.sk-toggleable__content pre {margin: 0.2em;color: black;border-radius: 0.25em;background-color: #f0f8ff;}#sk-container-id-2 input.sk-toggleable__control:checked~div.sk-toggleable__content {max-height: 200px;max-width: 100%;overflow: auto;}#sk-container-id-2 input.sk-toggleable__control:checked~label.sk-toggleable__label-arrow:before {content: \"▾\";}#sk-container-id-2 div.sk-estimator input.sk-toggleable__control:checked~label.sk-toggleable__label {background-color: #d4ebff;}#sk-container-id-2 div.sk-label input.sk-toggleable__control:checked~label.sk-toggleable__label {background-color: #d4ebff;}#sk-container-id-2 input.sk-hidden--visually {border: 0;clip: rect(1px 1px 1px 1px);clip: rect(1px, 1px, 1px, 1px);height: 1px;margin: -1px;overflow: hidden;padding: 0;position: absolute;width: 1px;}#sk-container-id-2 div.sk-estimator {font-family: monospace;background-color: #f0f8ff;border: 1px dotted black;border-radius: 0.25em;box-sizing: border-box;margin-bottom: 0.5em;}#sk-container-id-2 div.sk-estimator:hover {background-color: #d4ebff;}#sk-container-id-2 div.sk-parallel-item::after {content: \"\";width: 100%;border-bottom: 1px solid gray;flex-grow: 1;}#sk-container-id-2 div.sk-label:hover label.sk-toggleable__label {background-color: #d4ebff;}#sk-container-id-2 div.sk-serial::before {content: \"\";position: absolute;border-left: 1px solid gray;box-sizing: border-box;top: 0;bottom: 0;left: 50%;z-index: 0;}#sk-container-id-2 div.sk-serial {display: flex;flex-direction: column;align-items: center;background-color: white;padding-right: 0.2em;padding-left: 0.2em;position: relative;}#sk-container-id-2 div.sk-item {position: relative;z-index: 1;}#sk-container-id-2 div.sk-parallel {display: flex;align-items: stretch;justify-content: center;background-color: white;position: relative;}#sk-container-id-2 div.sk-item::before, #sk-container-id-2 div.sk-parallel-item::before {content: \"\";position: absolute;border-left: 1px solid gray;box-sizing: border-box;top: 0;bottom: 0;left: 50%;z-index: -1;}#sk-container-id-2 div.sk-parallel-item {display: flex;flex-direction: column;z-index: 1;position: relative;background-color: white;}#sk-container-id-2 div.sk-parallel-item:first-child::after {align-self: flex-end;width: 50%;}#sk-container-id-2 div.sk-parallel-item:last-child::after {align-self: flex-start;width: 50%;}#sk-container-id-2 div.sk-parallel-item:only-child::after {width: 0;}#sk-container-id-2 div.sk-dashed-wrapped {border: 1px dashed gray;margin: 0 0.4em 0.5em 0.4em;box-sizing: border-box;padding-bottom: 0.4em;background-color: white;}#sk-container-id-2 div.sk-label label {font-family: monospace;font-weight: bold;display: inline-block;line-height: 1.2em;}#sk-container-id-2 div.sk-label-container {text-align: center;}#sk-container-id-2 div.sk-container {/* jupyter's `normalize.less` sets `[hidden] { display: none; }` but bootstrap.min.css set `[hidden] { display: none !important; }` so we also need the `!important` here to be able to override the default hidden behavior on the sphinx rendered scikit-learn.org. See: https://github.com/scikit-learn/scikit-learn/issues/21755 */display: inline-block !important;position: relative;}#sk-container-id-2 div.sk-text-repr-fallback {display: none;}</style><div id=\"sk-container-id-2\" class=\"sk-top-container\"><div class=\"sk-text-repr-fallback\"><pre>KNeighborsClassifier(n_neighbors=3)</pre><b>In a Jupyter environment, please rerun this cell to show the HTML representation or trust the notebook. <br />On GitHub, the HTML representation is unable to render, please try loading this page with nbviewer.org.</b></div><div class=\"sk-container\" hidden><div class=\"sk-item\"><div class=\"sk-estimator sk-toggleable\"><input class=\"sk-toggleable__control sk-hidden--visually\" id=\"sk-estimator-id-2\" type=\"checkbox\" checked><label for=\"sk-estimator-id-2\" class=\"sk-toggleable__label sk-toggleable__label-arrow\">KNeighborsClassifier</label><div class=\"sk-toggleable__content\"><pre>KNeighborsClassifier(n_neighbors=3)</pre></div></div></div></div></div>"
      ],
      "text/plain": [
       "KNeighborsClassifier(n_neighbors=3)"
      ]
     },
     "execution_count": 36,
     "metadata": {},
     "output_type": "execute_result"
    }
   ],
   "source": [
    "from sklearn.neighbors import KNeighborsClassifier\n",
    "neigh = KNeighborsClassifier(n_neighbors=3)\n",
    "neigh.fit(x_train, y_train)\n"
   ]
  },
  {
   "cell_type": "code",
   "execution_count": 37,
   "id": "d4bdb6ae",
   "metadata": {
    "execution": {
     "iopub.execute_input": "2025-07-31T20:17:09.382534Z",
     "iopub.status.busy": "2025-07-31T20:17:09.382183Z",
     "iopub.status.idle": "2025-07-31T20:17:09.459655Z",
     "shell.execute_reply": "2025-07-31T20:17:09.458678Z"
    },
    "papermill": {
     "duration": 0.094534,
     "end_time": "2025-07-31T20:17:09.461243",
     "exception": false,
     "start_time": "2025-07-31T20:17:09.366709",
     "status": "completed"
    },
    "tags": []
   },
   "outputs": [],
   "source": [
    "y_pred_out = neigh.predict(x_test)\n",
    "accuracy1 = accuracy_score(y_test, y_pred_out)"
   ]
  },
  {
   "cell_type": "code",
   "execution_count": 38,
   "id": "78e64f1a",
   "metadata": {
    "execution": {
     "iopub.execute_input": "2025-07-31T20:17:09.489742Z",
     "iopub.status.busy": "2025-07-31T20:17:09.489393Z",
     "iopub.status.idle": "2025-07-31T20:17:09.496126Z",
     "shell.execute_reply": "2025-07-31T20:17:09.495322Z"
    },
    "papermill": {
     "duration": 0.023959,
     "end_time": "2025-07-31T20:17:09.498185",
     "exception": false,
     "start_time": "2025-07-31T20:17:09.474226",
     "status": "completed"
    },
    "tags": []
   },
   "outputs": [
    {
     "data": {
      "text/plain": [
       "0.8268365817091454"
      ]
     },
     "execution_count": 38,
     "metadata": {},
     "output_type": "execute_result"
    }
   ],
   "source": [
    "accuracy1"
   ]
  },
  {
   "cell_type": "code",
   "execution_count": 39,
   "id": "4c7be578",
   "metadata": {
    "execution": {
     "iopub.execute_input": "2025-07-31T20:17:09.527054Z",
     "iopub.status.busy": "2025-07-31T20:17:09.526091Z",
     "iopub.status.idle": "2025-07-31T20:17:09.539130Z",
     "shell.execute_reply": "2025-07-31T20:17:09.537839Z"
    },
    "papermill": {
     "duration": 0.029379,
     "end_time": "2025-07-31T20:17:09.541035",
     "exception": false,
     "start_time": "2025-07-31T20:17:09.511656",
     "status": "completed"
    },
    "tags": []
   },
   "outputs": [
    {
     "data": {
      "text/html": [
       "<style>#sk-container-id-3 {color: black;background-color: white;}#sk-container-id-3 pre{padding: 0;}#sk-container-id-3 div.sk-toggleable {background-color: white;}#sk-container-id-3 label.sk-toggleable__label {cursor: pointer;display: block;width: 100%;margin-bottom: 0;padding: 0.3em;box-sizing: border-box;text-align: center;}#sk-container-id-3 label.sk-toggleable__label-arrow:before {content: \"▸\";float: left;margin-right: 0.25em;color: #696969;}#sk-container-id-3 label.sk-toggleable__label-arrow:hover:before {color: black;}#sk-container-id-3 div.sk-estimator:hover label.sk-toggleable__label-arrow:before {color: black;}#sk-container-id-3 div.sk-toggleable__content {max-height: 0;max-width: 0;overflow: hidden;text-align: left;background-color: #f0f8ff;}#sk-container-id-3 div.sk-toggleable__content pre {margin: 0.2em;color: black;border-radius: 0.25em;background-color: #f0f8ff;}#sk-container-id-3 input.sk-toggleable__control:checked~div.sk-toggleable__content {max-height: 200px;max-width: 100%;overflow: auto;}#sk-container-id-3 input.sk-toggleable__control:checked~label.sk-toggleable__label-arrow:before {content: \"▾\";}#sk-container-id-3 div.sk-estimator input.sk-toggleable__control:checked~label.sk-toggleable__label {background-color: #d4ebff;}#sk-container-id-3 div.sk-label input.sk-toggleable__control:checked~label.sk-toggleable__label {background-color: #d4ebff;}#sk-container-id-3 input.sk-hidden--visually {border: 0;clip: rect(1px 1px 1px 1px);clip: rect(1px, 1px, 1px, 1px);height: 1px;margin: -1px;overflow: hidden;padding: 0;position: absolute;width: 1px;}#sk-container-id-3 div.sk-estimator {font-family: monospace;background-color: #f0f8ff;border: 1px dotted black;border-radius: 0.25em;box-sizing: border-box;margin-bottom: 0.5em;}#sk-container-id-3 div.sk-estimator:hover {background-color: #d4ebff;}#sk-container-id-3 div.sk-parallel-item::after {content: \"\";width: 100%;border-bottom: 1px solid gray;flex-grow: 1;}#sk-container-id-3 div.sk-label:hover label.sk-toggleable__label {background-color: #d4ebff;}#sk-container-id-3 div.sk-serial::before {content: \"\";position: absolute;border-left: 1px solid gray;box-sizing: border-box;top: 0;bottom: 0;left: 50%;z-index: 0;}#sk-container-id-3 div.sk-serial {display: flex;flex-direction: column;align-items: center;background-color: white;padding-right: 0.2em;padding-left: 0.2em;position: relative;}#sk-container-id-3 div.sk-item {position: relative;z-index: 1;}#sk-container-id-3 div.sk-parallel {display: flex;align-items: stretch;justify-content: center;background-color: white;position: relative;}#sk-container-id-3 div.sk-item::before, #sk-container-id-3 div.sk-parallel-item::before {content: \"\";position: absolute;border-left: 1px solid gray;box-sizing: border-box;top: 0;bottom: 0;left: 50%;z-index: -1;}#sk-container-id-3 div.sk-parallel-item {display: flex;flex-direction: column;z-index: 1;position: relative;background-color: white;}#sk-container-id-3 div.sk-parallel-item:first-child::after {align-self: flex-end;width: 50%;}#sk-container-id-3 div.sk-parallel-item:last-child::after {align-self: flex-start;width: 50%;}#sk-container-id-3 div.sk-parallel-item:only-child::after {width: 0;}#sk-container-id-3 div.sk-dashed-wrapped {border: 1px dashed gray;margin: 0 0.4em 0.5em 0.4em;box-sizing: border-box;padding-bottom: 0.4em;background-color: white;}#sk-container-id-3 div.sk-label label {font-family: monospace;font-weight: bold;display: inline-block;line-height: 1.2em;}#sk-container-id-3 div.sk-label-container {text-align: center;}#sk-container-id-3 div.sk-container {/* jupyter's `normalize.less` sets `[hidden] { display: none; }` but bootstrap.min.css set `[hidden] { display: none !important; }` so we also need the `!important` here to be able to override the default hidden behavior on the sphinx rendered scikit-learn.org. See: https://github.com/scikit-learn/scikit-learn/issues/21755 */display: inline-block !important;position: relative;}#sk-container-id-3 div.sk-text-repr-fallback {display: none;}</style><div id=\"sk-container-id-3\" class=\"sk-top-container\"><div class=\"sk-text-repr-fallback\"><pre>RadiusNeighborsClassifier()</pre><b>In a Jupyter environment, please rerun this cell to show the HTML representation or trust the notebook. <br />On GitHub, the HTML representation is unable to render, please try loading this page with nbviewer.org.</b></div><div class=\"sk-container\" hidden><div class=\"sk-item\"><div class=\"sk-estimator sk-toggleable\"><input class=\"sk-toggleable__control sk-hidden--visually\" id=\"sk-estimator-id-3\" type=\"checkbox\" checked><label for=\"sk-estimator-id-3\" class=\"sk-toggleable__label sk-toggleable__label-arrow\">RadiusNeighborsClassifier</label><div class=\"sk-toggleable__content\"><pre>RadiusNeighborsClassifier()</pre></div></div></div></div></div>"
      ],
      "text/plain": [
       "RadiusNeighborsClassifier()"
      ]
     },
     "execution_count": 39,
     "metadata": {},
     "output_type": "execute_result"
    }
   ],
   "source": [
    "from sklearn.neighbors import RadiusNeighborsClassifier\n",
    "neigh1 = RadiusNeighborsClassifier(radius=1.0)\n",
    "neigh1.fit(x_train, y_train)"
   ]
  },
  {
   "cell_type": "code",
   "execution_count": 40,
   "id": "31286798",
   "metadata": {
    "execution": {
     "iopub.execute_input": "2025-07-31T20:17:09.568085Z",
     "iopub.status.busy": "2025-07-31T20:17:09.567749Z",
     "iopub.status.idle": "2025-07-31T20:17:09.690698Z",
     "shell.execute_reply": "2025-07-31T20:17:09.689601Z"
    },
    "papermill": {
     "duration": 0.138539,
     "end_time": "2025-07-31T20:17:09.692231",
     "exception": false,
     "start_time": "2025-07-31T20:17:09.553692",
     "status": "completed"
    },
    "tags": []
   },
   "outputs": [
    {
     "data": {
      "text/plain": [
       "0.787856071964018"
      ]
     },
     "execution_count": 40,
     "metadata": {},
     "output_type": "execute_result"
    }
   ],
   "source": [
    "y_pre_out = neigh1.predict(x_test)\n",
    "accuracy2 = accuracy_score(y_test, y_pre_out)\n",
    "accuracy2"
   ]
  },
  {
   "cell_type": "code",
   "execution_count": 41,
   "id": "d616227e",
   "metadata": {
    "execution": {
     "iopub.execute_input": "2025-07-31T20:17:09.721168Z",
     "iopub.status.busy": "2025-07-31T20:17:09.720131Z",
     "iopub.status.idle": "2025-07-31T20:17:09.785213Z",
     "shell.execute_reply": "2025-07-31T20:17:09.784313Z"
    },
    "papermill": {
     "duration": 0.080802,
     "end_time": "2025-07-31T20:17:09.786822",
     "exception": false,
     "start_time": "2025-07-31T20:17:09.706020",
     "status": "completed"
    },
    "tags": []
   },
   "outputs": [
    {
     "data": {
      "text/plain": [
       "0.8253373313343328"
      ]
     },
     "execution_count": 41,
     "metadata": {},
     "output_type": "execute_result"
    }
   ],
   "source": [
    "from sklearn.tree import DecisionTreeClassifier\n",
    "dtree = DecisionTreeClassifier(random_state=0)\n",
    "dtree.fit(x_train, y_train)\n",
    "y_predict=dtree.predict(x_test)\n",
    "accuracy3 = accuracy_score(y_test, y_predict)\n",
    "accuracy3"
   ]
  },
  {
   "cell_type": "code",
   "execution_count": 42,
   "id": "67b5f567",
   "metadata": {
    "execution": {
     "iopub.execute_input": "2025-07-31T20:17:09.813198Z",
     "iopub.status.busy": "2025-07-31T20:17:09.812888Z",
     "iopub.status.idle": "2025-07-31T20:17:09.827182Z",
     "shell.execute_reply": "2025-07-31T20:17:09.826338Z"
    },
    "papermill": {
     "duration": 0.029297,
     "end_time": "2025-07-31T20:17:09.828808",
     "exception": false,
     "start_time": "2025-07-31T20:17:09.799511",
     "status": "completed"
    },
    "tags": []
   },
   "outputs": [
    {
     "data": {
      "text/plain": [
       "0.8253373313343328"
      ]
     },
     "execution_count": 42,
     "metadata": {},
     "output_type": "execute_result"
    }
   ],
   "source": [
    "from sklearn.tree import ExtraTreeClassifier\n",
    "dtre=ExtraTreeClassifier(random_state=0)\n",
    "dtre.fit(x_train,y_train)\n",
    "y_pre_tree=dtre.predict(x_test)\n",
    "accuracy4 = accuracy_score(y_test, y_pre_tree)\n",
    "accuracy4"
   ]
  },
  {
   "cell_type": "code",
   "execution_count": 43,
   "id": "32ddfae8",
   "metadata": {
    "execution": {
     "iopub.execute_input": "2025-07-31T20:17:09.857308Z",
     "iopub.status.busy": "2025-07-31T20:17:09.856964Z",
     "iopub.status.idle": "2025-07-31T20:17:10.226909Z",
     "shell.execute_reply": "2025-07-31T20:17:10.225870Z"
    },
    "papermill": {
     "duration": 0.386045,
     "end_time": "2025-07-31T20:17:10.228735",
     "exception": false,
     "start_time": "2025-07-31T20:17:09.842690",
     "status": "completed"
    },
    "tags": []
   },
   "outputs": [
    {
     "data": {
      "text/plain": [
       "0.7646176911544228"
      ]
     },
     "execution_count": 43,
     "metadata": {},
     "output_type": "execute_result"
    }
   ],
   "source": [
    "\n",
    "from sklearn.ensemble import RandomForestClassifier\n",
    "Rand = RandomForestClassifier(max_depth=2, random_state=0)\n",
    "Rand.fit(x_train,y_train)\n",
    "y_pre_rand=Rand.predict(x_test)\n",
    "accuracy5 = accuracy_score(y_test, y_pre_rand)\n",
    "accuracy5"
   ]
  },
  {
   "cell_type": "code",
   "execution_count": 44,
   "id": "d755dcd1",
   "metadata": {
    "execution": {
     "iopub.execute_input": "2025-07-31T20:17:10.255538Z",
     "iopub.status.busy": "2025-07-31T20:17:10.255191Z",
     "iopub.status.idle": "2025-07-31T20:17:10.474288Z",
     "shell.execute_reply": "2025-07-31T20:17:10.473397Z"
    },
    "papermill": {
     "duration": 0.234115,
     "end_time": "2025-07-31T20:17:10.475792",
     "exception": false,
     "start_time": "2025-07-31T20:17:10.241677",
     "status": "completed"
    },
    "tags": []
   },
   "outputs": [
    {
     "data": {
      "text/plain": [
       "0.8253373313343328"
      ]
     },
     "execution_count": 44,
     "metadata": {},
     "output_type": "execute_result"
    }
   ],
   "source": [
    "from sklearn.ensemble import ExtraTreesClassifier\n",
    "dtr=ExtraTreesClassifier(n_estimators=100, random_state=0)\n",
    "dtr.fit(x_train,y_train)\n",
    "y_pre_tr=dtre.predict(x_test)\n",
    "accuracy6 = accuracy_score(y_test, y_pre_tr)\n",
    "accuracy6"
   ]
  },
  {
   "cell_type": "code",
   "execution_count": 45,
   "id": "ba52efde",
   "metadata": {
    "execution": {
     "iopub.execute_input": "2025-07-31T20:17:10.503395Z",
     "iopub.status.busy": "2025-07-31T20:17:10.503064Z",
     "iopub.status.idle": "2025-07-31T20:17:10.530695Z",
     "shell.execute_reply": "2025-07-31T20:17:10.529710Z"
    },
    "papermill": {
     "duration": 0.043577,
     "end_time": "2025-07-31T20:17:10.532166",
     "exception": false,
     "start_time": "2025-07-31T20:17:10.488589",
     "status": "completed"
    },
    "tags": []
   },
   "outputs": [
    {
     "name": "stdout",
     "output_type": "stream",
     "text": [
      "GaussianNB Accuracy: 0.7593703148425787\n"
     ]
    }
   ],
   "source": [
    "from sklearn.naive_bayes import GaussianNB\n",
    "\n",
    "gaus = GaussianNB()\n",
    "gaus.fit(x_train, y_train)\n",
    "\n",
    "y_pred_gaus = gaus.predict(x_test)\n",
    "print(\"GaussianNB Accuracy:\", accuracy_score(y_test, y_pred_gaus))"
   ]
  },
  {
   "cell_type": "code",
   "execution_count": 46,
   "id": "e6e3384c",
   "metadata": {
    "execution": {
     "iopub.execute_input": "2025-07-31T20:17:10.560456Z",
     "iopub.status.busy": "2025-07-31T20:17:10.560110Z",
     "iopub.status.idle": "2025-07-31T20:17:10.576941Z",
     "shell.execute_reply": "2025-07-31T20:17:10.575838Z"
    },
    "papermill": {
     "duration": 0.033013,
     "end_time": "2025-07-31T20:17:10.578408",
     "exception": false,
     "start_time": "2025-07-31T20:17:10.545395",
     "status": "completed"
    },
    "tags": []
   },
   "outputs": [
    {
     "name": "stdout",
     "output_type": "stream",
     "text": [
      "MultinomialNB Accuracy: 0.6799100449775113\n"
     ]
    }
   ],
   "source": [
    "from sklearn.naive_bayes import MultinomialNB\n",
    "\n",
    "mult = MultinomialNB()\n",
    "mult.fit(x_train, y_train)\n",
    "\n",
    "y_pred_mult = mult.predict(x_test)\n",
    "print(\"MultinomialNB Accuracy:\", accuracy_score(y_test, y_pred_mult))"
   ]
  },
  {
   "cell_type": "code",
   "execution_count": 47,
   "id": "702f18ef",
   "metadata": {
    "execution": {
     "iopub.execute_input": "2025-07-31T20:17:10.605549Z",
     "iopub.status.busy": "2025-07-31T20:17:10.605231Z",
     "iopub.status.idle": "2025-07-31T20:17:10.617754Z",
     "shell.execute_reply": "2025-07-31T20:17:10.616730Z"
    },
    "papermill": {
     "duration": 0.027832,
     "end_time": "2025-07-31T20:17:10.619288",
     "exception": false,
     "start_time": "2025-07-31T20:17:10.591456",
     "status": "completed"
    },
    "tags": []
   },
   "outputs": [
    {
     "name": "stdout",
     "output_type": "stream",
     "text": [
      "BernoulliNB Accuracy: 0.780359820089955\n"
     ]
    }
   ],
   "source": [
    "from sklearn.naive_bayes import BernoulliNB\n",
    "\n",
    "ber = BernoulliNB()\n",
    "ber.fit(x_train, y_train)\n",
    "\n",
    "y_pred_ber = ber.predict(x_test)\n",
    "print(\"BernoulliNB Accuracy:\", accuracy_score(y_test, y_pred_ber))\n"
   ]
  },
  {
   "cell_type": "code",
   "execution_count": 48,
   "id": "998c85f5",
   "metadata": {
    "execution": {
     "iopub.execute_input": "2025-07-31T20:17:10.648842Z",
     "iopub.status.busy": "2025-07-31T20:17:10.648503Z",
     "iopub.status.idle": "2025-07-31T20:17:10.887889Z",
     "shell.execute_reply": "2025-07-31T20:17:10.887044Z"
    },
    "papermill": {
     "duration": 0.256808,
     "end_time": "2025-07-31T20:17:10.889707",
     "exception": false,
     "start_time": "2025-07-31T20:17:10.632899",
     "status": "completed"
    },
    "tags": []
   },
   "outputs": [
    {
     "name": "stdout",
     "output_type": "stream",
     "text": [
      "Accuracy: 0.8313343328335832\n"
     ]
    }
   ],
   "source": [
    "from sklearn.ensemble import StackingClassifier\n",
    "from sklearn.tree import DecisionTreeClassifier\n",
    "from sklearn.neighbors import KNeighborsClassifier\n",
    "from sklearn.naive_bayes import GaussianNB\n",
    "from sklearn.linear_model import LogisticRegression\n",
    "from sklearn.metrics import accuracy_score\n",
    "base_learners = [\n",
    "    ('dt', DecisionTreeClassifier()),\n",
    "    ('knn', KNeighborsClassifier(n_neighbors=3)),\n",
    "    ('nb', GaussianNB())\n",
    "]\n",
    "\n",
    "meta_learner = LogisticRegression()\n",
    "\n",
    "stacking_model = StackingClassifier(estimators=base_learners, final_estimator=meta_learner)\n",
    "stacking_model.fit(x_train, y_train)\n",
    "\n",
    "y_pred22 = stacking_model.predict(x_test)\n",
    "\n",
    "print(\"Accuracy:\", accuracy_score(y_test, y_pred22))\n"
   ]
  },
  {
   "cell_type": "code",
   "execution_count": 49,
   "id": "25f637bc",
   "metadata": {
    "execution": {
     "iopub.execute_input": "2025-07-31T20:17:10.934784Z",
     "iopub.status.busy": "2025-07-31T20:17:10.934448Z",
     "iopub.status.idle": "2025-07-31T20:17:11.736729Z",
     "shell.execute_reply": "2025-07-31T20:17:11.735425Z"
    },
    "papermill": {
     "duration": 0.826935,
     "end_time": "2025-07-31T20:17:11.738370",
     "exception": false,
     "start_time": "2025-07-31T20:17:10.911435",
     "status": "completed"
    },
    "tags": []
   },
   "outputs": [
    {
     "name": "stdout",
     "output_type": "stream",
     "text": [
      "Accuracy of svc: 0.8350824587706147\n"
     ]
    }
   ],
   "source": [
    "from sklearn.svm import SVC\n",
    "svm = SVC(kernel=\"rbf\", gamma=0.5, C=1.0)\n",
    "svm.fit(x_train, y_train)\n",
    "pred_svc = svm.predict(x_test)\n",
    "print(\"Accuracy of svc:\", accuracy_score(y_test,pred_svc))\n"
   ]
  },
  {
   "cell_type": "code",
   "execution_count": 50,
   "id": "f206350a",
   "metadata": {
    "execution": {
     "iopub.execute_input": "2025-07-31T20:17:11.765480Z",
     "iopub.status.busy": "2025-07-31T20:17:11.765138Z",
     "iopub.status.idle": "2025-07-31T20:17:11.905731Z",
     "shell.execute_reply": "2025-07-31T20:17:11.904777Z"
    },
    "papermill": {
     "duration": 0.155746,
     "end_time": "2025-07-31T20:17:11.907201",
     "exception": false,
     "start_time": "2025-07-31T20:17:11.751455",
     "status": "completed"
    },
    "tags": []
   },
   "outputs": [
    {
     "name": "stdout",
     "output_type": "stream",
     "text": [
      "Accuracy LinearSVC: 0.7016491754122939\n"
     ]
    }
   ],
   "source": [
    "from sklearn.svm import LinearSVC\n",
    "from sklearn.pipeline import make_pipeline\n",
    "from sklearn.preprocessing import StandardScaler\n",
    "clf = make_pipeline(StandardScaler(), LinearSVC(random_state=0, tol=1e-5))\n",
    "clf.fit(x_train, y_train)\n",
    "y_pred_linear = clf.predict(x_test)\n",
    "print(\"Accuracy LinearSVC:\", accuracy_score(y_test, y_pred_linear))\n"
   ]
  },
  {
   "cell_type": "code",
   "execution_count": 51,
   "id": "a51b2420",
   "metadata": {
    "execution": {
     "iopub.execute_input": "2025-07-31T20:17:11.935669Z",
     "iopub.status.busy": "2025-07-31T20:17:11.935349Z",
     "iopub.status.idle": "2025-07-31T20:17:13.218624Z",
     "shell.execute_reply": "2025-07-31T20:17:13.217678Z"
    },
    "papermill": {
     "duration": 1.29931,
     "end_time": "2025-07-31T20:17:13.220303",
     "exception": false,
     "start_time": "2025-07-31T20:17:11.920993",
     "status": "completed"
    },
    "tags": []
   },
   "outputs": [
    {
     "name": "stdout",
     "output_type": "stream",
     "text": [
      "Accuracy NuSVC: 0.8268365817091454\n"
     ]
    }
   ],
   "source": [
    "from sklearn.pipeline import make_pipeline\n",
    "from sklearn.preprocessing import StandardScaler\n",
    "from sklearn.svm import NuSVC\n",
    "clf1 = make_pipeline(StandardScaler(), NuSVC())\n",
    "clf1.fit(x_train,y_train)\n",
    "pred_nus = clf1.predict(x_test)\n",
    "print(\"Accuracy NuSVC:\", accuracy_score(y_test, pred_nus))"
   ]
  },
  {
   "cell_type": "code",
   "execution_count": 52,
   "id": "13e524a6",
   "metadata": {
    "execution": {
     "iopub.execute_input": "2025-07-31T20:17:13.249564Z",
     "iopub.status.busy": "2025-07-31T20:17:13.248940Z",
     "iopub.status.idle": "2025-07-31T20:17:14.728943Z",
     "shell.execute_reply": "2025-07-31T20:17:14.727814Z"
    },
    "papermill": {
     "duration": 1.495883,
     "end_time": "2025-07-31T20:17:14.730813",
     "exception": false,
     "start_time": "2025-07-31T20:17:13.234930",
     "status": "completed"
    },
    "tags": []
   },
   "outputs": [
    {
     "name": "stdout",
     "output_type": "stream",
     "text": [
      "VotingClassifier Accuracy: 0.8320839580209896\n"
     ]
    }
   ],
   "source": [
    "from sklearn.neighbors import KNeighborsClassifier, RadiusNeighborsClassifier\n",
    "from sklearn.ensemble import ExtraTreesClassifier\n",
    "from sklearn.ensemble import VotingClassifier\n",
    "from sklearn.metrics import accuracy_score\n",
    "clf0 = DecisionTreeClassifier(random_state=0)\n",
    "clf2 = KNeighborsClassifier(n_neighbors=3)\n",
    "clf3 = RadiusNeighborsClassifier(radius=1.0)\n",
    "voting_clf = VotingClassifier(estimators=[\n",
    "    ('dt', clf1), ('knn', clf2), ('rnn', clf3)\n",
    "], voting='hard') \n",
    "\n",
    "voting_clf.fit(x_train, y_train)\n",
    "\n",
    "y_pred = voting_clf.predict(x_test)\n",
    "\n",
    "print(\"VotingClassifier Accuracy:\", accuracy_score(y_test, y_pred))\n"
   ]
  },
  {
   "cell_type": "code",
   "execution_count": 53,
   "id": "53f8ab98",
   "metadata": {
    "execution": {
     "iopub.execute_input": "2025-07-31T20:17:14.760614Z",
     "iopub.status.busy": "2025-07-31T20:17:14.760206Z",
     "iopub.status.idle": "2025-07-31T20:17:14.772827Z",
     "shell.execute_reply": "2025-07-31T20:17:14.771794Z"
    },
    "papermill": {
     "duration": 0.028411,
     "end_time": "2025-07-31T20:17:14.774581",
     "exception": false,
     "start_time": "2025-07-31T20:17:14.746170",
     "status": "completed"
    },
    "tags": []
   },
   "outputs": [
    {
     "data": {
      "text/html": [
       "<div>\n",
       "<style scoped>\n",
       "    .dataframe tbody tr th:only-of-type {\n",
       "        vertical-align: middle;\n",
       "    }\n",
       "\n",
       "    .dataframe tbody tr th {\n",
       "        vertical-align: top;\n",
       "    }\n",
       "\n",
       "    .dataframe thead th {\n",
       "        text-align: right;\n",
       "    }\n",
       "</style>\n",
       "<table border=\"1\" class=\"dataframe\">\n",
       "  <thead>\n",
       "    <tr style=\"text-align: right;\">\n",
       "      <th></th>\n",
       "      <th>Outlook</th>\n",
       "      <th>Humidity</th>\n",
       "      <th>Wind</th>\n",
       "      <th>Temperature</th>\n",
       "    </tr>\n",
       "  </thead>\n",
       "  <tbody>\n",
       "    <tr>\n",
       "      <th>Outlook</th>\n",
       "      <td>1.000000</td>\n",
       "      <td>0.003464</td>\n",
       "      <td>-0.005713</td>\n",
       "      <td>0.009533</td>\n",
       "    </tr>\n",
       "    <tr>\n",
       "      <th>Humidity</th>\n",
       "      <td>0.003464</td>\n",
       "      <td>1.000000</td>\n",
       "      <td>-0.003397</td>\n",
       "      <td>0.014033</td>\n",
       "    </tr>\n",
       "    <tr>\n",
       "      <th>Wind</th>\n",
       "      <td>-0.005713</td>\n",
       "      <td>-0.003397</td>\n",
       "      <td>1.000000</td>\n",
       "      <td>0.001666</td>\n",
       "    </tr>\n",
       "    <tr>\n",
       "      <th>Temperature</th>\n",
       "      <td>0.009533</td>\n",
       "      <td>0.014033</td>\n",
       "      <td>0.001666</td>\n",
       "      <td>1.000000</td>\n",
       "    </tr>\n",
       "  </tbody>\n",
       "</table>\n",
       "</div>"
      ],
      "text/plain": [
       "              Outlook  Humidity      Wind  Temperature\n",
       "Outlook      1.000000  0.003464 -0.005713     0.009533\n",
       "Humidity     0.003464  1.000000 -0.003397     0.014033\n",
       "Wind        -0.005713 -0.003397  1.000000     0.001666\n",
       "Temperature  0.009533  0.014033  0.001666     1.000000"
      ]
     },
     "execution_count": 53,
     "metadata": {},
     "output_type": "execute_result"
    }
   ],
   "source": [
    "x.corr()"
   ]
  }
 ],
 "metadata": {
  "kaggle": {
   "accelerator": "none",
   "dataSources": [
    {
     "datasetId": 7653355,
     "sourceId": 12154285,
     "sourceType": "datasetVersion"
    }
   ],
   "dockerImageVersionId": 31089,
   "isGpuEnabled": false,
   "isInternetEnabled": false,
   "language": "python",
   "sourceType": "notebook"
  },
  "kernelspec": {
   "display_name": "Python 3",
   "language": "python",
   "name": "python3"
  },
  "language_info": {
   "codemirror_mode": {
    "name": "ipython",
    "version": 3
   },
   "file_extension": ".py",
   "mimetype": "text/x-python",
   "name": "python",
   "nbconvert_exporter": "python",
   "pygments_lexer": "ipython3",
   "version": "3.11.13"
  },
  "papermill": {
   "default_parameters": {},
   "duration": 17.364833,
   "end_time": "2025-07-31T20:17:15.511002",
   "environment_variables": {},
   "exception": null,
   "input_path": "__notebook__.ipynb",
   "output_path": "__notebook__.ipynb",
   "parameters": {},
   "start_time": "2025-07-31T20:16:58.146169",
   "version": "2.6.0"
  }
 },
 "nbformat": 4,
 "nbformat_minor": 5
}
